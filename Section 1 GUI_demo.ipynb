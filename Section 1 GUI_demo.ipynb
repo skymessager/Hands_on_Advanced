{
 "cells": [
  {
   "cell_type": "markdown",
   "metadata": {},
   "source": [
    "## GUI\n",
    "* Graphic User Interface (GUI) is an efficient tool for lab automation, it can help engineers save time, generate straight-forward data visualization and provide centralized control system.\n",
    "* Jupyter notebook ipywidgets is a good candidate for GUI in jupyter notebook. There are other tools available (such as bokeh server).\n",
    "* What are widgets? Eventful python objects that can have a representation in the browser, often as a control like a slider, textbox, etc."
   ]
  },
  {
   "cell_type": "markdown",
   "metadata": {},
   "source": [
    "## Learning Outcomes\n",
    "* Understand intactive ipywdigets features\n",
    "* Ipywidgets list\n",
    "* Build a simple GUI based on ipywidgets\n",
    "* Asynchronous widgets with threading"
   ]
  },
  {
   "cell_type": "markdown",
   "metadata": {},
   "source": [
    "## Requirements\n",
    "* Confirm you have ipywidgets installed by checking 'pip list' in command window. \n",
    "* If not, please try 'conda install -c conda-forge ipywidgets' in command window."
   ]
  },
  {
   "cell_type": "markdown",
   "metadata": {},
   "source": [
    "## Interactive ipywidgets\n",
    "* 'interact' function automatically creates user interface controls for exploring code and data interactivelly.\n",
    "* General conecept:\n",
    "    - define a function\n",
    "    - link the function and ipywidgets with 'interact' function and function parameters"
   ]
  },
  {
   "cell_type": "code",
   "execution_count": null,
   "metadata": {},
   "outputs": [],
   "source": [
    "## load necessary libraries\n",
    "from __future__ import print_function\n",
    "from ipywidgets import interact, interactive, fixed, interact_manual\n",
    "import ipywidgets as widgets\n",
    "\n",
    "\n",
    "## define a function of interest\n",
    "def f(x):\n",
    "    return x**2.\n",
    "\n",
    "## define an interaction with a slider\n",
    "interact(f,x = 10)"
   ]
  },
  {
   "cell_type": "code",
   "execution_count": null,
   "metadata": {},
   "outputs": [],
   "source": [
    "## previous example is simple, but without much explanation. \n",
    "## We will show another example here to give you a better idea about interact function.\n",
    "\n",
    "interact(f,x = widgets.IntSlider(min = -10, max = 30, step = 1, value = 10))"
   ]
  },
  {
   "cell_type": "code",
   "execution_count": null,
   "metadata": {},
   "outputs": [],
   "source": [
    "## more examples\n",
    "def f_show(x):\n",
    "    print(x)\n",
    "    \n",
    "interact(f_show,x = ['Apple','Orange','Strawberry'])"
   ]
  },
  {
   "cell_type": "code",
   "execution_count": null,
   "metadata": {
    "scrolled": false
   },
   "outputs": [],
   "source": [
    "help(interact)"
   ]
  },
  {
   "cell_type": "markdown",
   "metadata": {},
   "source": [
    "## ipywidget list\n",
    "* There are many ipywidgets\n",
    "* We list 5 frequent used ones here."
   ]
  },
  {
   "cell_type": "code",
   "execution_count": null,
   "metadata": {},
   "outputs": [],
   "source": [
    "widgets.Button(\n",
    "    description='button',\n",
    "    disabled=False,\n",
    "    button_style='success', # 'success', 'info', 'warning', 'danger' or ''\n",
    "    tooltip='button',\n",
    "    icon=''\n",
    ")"
   ]
  },
  {
   "cell_type": "code",
   "execution_count": null,
   "metadata": {},
   "outputs": [],
   "source": [
    "widgets.Text(\n",
    "    value='Text',\n",
    "    placeholder='Type...',\n",
    "    description='Text Area:',\n",
    "    disabled=False\n",
    ")"
   ]
  },
  {
   "cell_type": "code",
   "execution_count": null,
   "metadata": {},
   "outputs": [],
   "source": [
    "widgets.FloatSlider(\n",
    "    value=1.,\n",
    "    min=0,\n",
    "    max=10.0,\n",
    "    step=0.1,\n",
    "    description='Float Slider:',\n",
    "    disabled=False,\n",
    "    continuous_update=False,\n",
    "    orientation='horizontal',\n",
    "    readout=True,\n",
    "    readout_format='.1f',\n",
    ")"
   ]
  },
  {
   "cell_type": "code",
   "execution_count": null,
   "metadata": {},
   "outputs": [],
   "source": [
    "widgets.Checkbox(\n",
    "    value=False,\n",
    "    description='Check Box',\n",
    "    disabled=False\n",
    ")"
   ]
  },
  {
   "cell_type": "code",
   "execution_count": null,
   "metadata": {},
   "outputs": [],
   "source": [
    "widgets.RadioButtons(\n",
    "    options=['Ant Man', 'Venom', 'Spider Man'],\n",
    "    value='Venom',\n",
    "    description='Best movie?:',\n",
    "    disabled=False\n",
    ")"
   ]
  },
  {
   "cell_type": "markdown",
   "metadata": {},
   "source": [
    "## Build a simple GUI based on ipywidgets\n",
    "* float slider for changing the parameters\n",
    "* dropdown menu for selecting curve equations\n",
    "* plot in output widgets"
   ]
  },
  {
   "cell_type": "code",
   "execution_count": null,
   "metadata": {},
   "outputs": [],
   "source": [
    "from IPython.display import display,clear_output\n",
    "import numpy as np\n",
    "from matplotlib.pyplot import *\n",
    "\n",
    "### functions\n",
    "def linear_func(beta):\n",
    "    x = np.arange(0,100)\n",
    "    y = beta*x+10.\n",
    "    return x,y\n",
    "\n",
    "def quad_func(beta):\n",
    "    x = np.arange(0,100)\n",
    "    y = beta*x**2.+10.\n",
    "    return x,y\n",
    "\n",
    "def exp_func(beta):\n",
    "    x = np.arange(0,100)\n",
    "    y = np.exp(beta*x)+10.\n",
    "    return x,y\n",
    "\n",
    "\n",
    "\n",
    "### widgets\n",
    "beta_slider = widgets.FloatSlider(value = 0.2,\n",
    "                                  min = 0.01,\n",
    "                                  max = 1.,\n",
    "                                  step = 0.01,\n",
    "                                  description = 'beta',\n",
    "                                  continuous_update=False,\n",
    "                                  readout_format = '.2f')\n",
    "\n",
    "dropdown_menu = widgets.Dropdown(options = ['linear','quadratic polynomial','exponential'],\n",
    "                                 value = 'linear')\n",
    "\n",
    "update_button = widgets.Button(description='Update',\n",
    "                               disabled=False,\n",
    "                               button_style='success', # 'success', 'info', 'warning', 'danger' or ''\n",
    "                               tooltip='button',\n",
    "                               icon='')\n",
    "\n",
    "out_plot = widgets.Output()\n",
    "\n",
    "### layout\n",
    "Hbox_options = widgets.HBox([beta_slider,\n",
    "                             dropdown_menu,\n",
    "                             update_button])\n",
    "\n",
    "Vbox = widgets.VBox([Hbox_options,\n",
    "                     out_plot])\n",
    "\n",
    "\n",
    "### link function with widgets\n",
    "def update_button_clicked(b):\n",
    "    if dropdown_menu.value == 'linear':\n",
    "        x,y = linear_func(beta_slider.value)\n",
    "    elif dropdown_menu.value == 'quadratic polynomial':\n",
    "        x,y = quad_func(beta_slider.value)\n",
    "    elif dropdown_menu.value == 'exponential':\n",
    "        x,y = exp_func(beta_slider.value)\n",
    "    \n",
    "    with out_plot:\n",
    "         clear_output(wait = True)\n",
    "         plot(x,y)\n",
    "         xlabel('x-axis')\n",
    "         ylabel('y-axis')\n",
    "         grid()\n",
    "         xlim(0,100)\n",
    "         ylim(0,1000)\n",
    "         show()\n",
    "\n",
    "update_button.on_click(update_button_clicked)\n",
    "\n",
    "display(Vbox)\n",
    "\n"
   ]
  },
  {
   "cell_type": "markdown",
   "metadata": {},
   "source": [
    "## Asynchronous widgets with threading\n",
    "* Sometimes we need widgets run in the background, this is where asynchronous widgets kick in.\n",
    "* We handle this type of requirement with threads.\n",
    "* In this example, we will have a progress bar keep updating in the background, and we can change the current position of the progress bar based on current kernel request."
   ]
  },
  {
   "cell_type": "code",
   "execution_count": 2,
   "metadata": {},
   "outputs": [
    {
     "data": {
      "application/vnd.jupyter.widget-view+json": {
       "model_id": "d8e2f96a0fc34604989d13cb3666037d",
       "version_major": 2,
       "version_minor": 0
      },
      "text/plain": [
       "FloatProgress(value=0.0, max=1.0)"
      ]
     },
     "metadata": {},
     "output_type": "display_data"
    },
    {
     "data": {
      "application/vnd.jupyter.widget-view+json": {
       "model_id": "27f84d4ca2694b88b9898f2a92a07c9f",
       "version_major": 2,
       "version_minor": 0
      },
      "text/plain": [
       "FloatSlider(value=0.0, continuous_update=False, description='update this:', max=30.0, step=1.0)"
      ]
     },
     "metadata": {},
     "output_type": "display_data"
    },
    {
     "data": {
      "application/vnd.jupyter.widget-view+json": {
       "model_id": "dc4e6e5912c441adb330879dd3de49bd",
       "version_major": 2,
       "version_minor": 0
      },
      "text/plain": [
       "Checkbox(value=False, description='Running')"
      ]
     },
     "metadata": {},
     "output_type": "display_data"
    },
    {
     "name": "stdout",
     "output_type": "stream",
     "text": [
      "11.0\n",
      "22.0\n"
     ]
    }
   ],
   "source": [
    "import threading\n",
    "import numpy as np\n",
    "from IPython.display import display\n",
    "import ipywidgets as widgets\n",
    "import time\n",
    "\n",
    "progress = widgets.FloatProgress(value=0.0, min=0.0, max=1.0)\n",
    "input_slider = widgets.FloatSlider(value = 0, \n",
    "                                   min = 0, \n",
    "                                   max = 30, \n",
    "                                   step = 1,\n",
    "                                   description = 'update this:',\n",
    "                                   continuous_update = False)\n",
    "\n",
    "status_checkbox = widgets.Checkbox(value = False,\n",
    "                                   description = 'Running',\n",
    "                                   disabled = False)\n",
    "\n",
    "i = []\n",
    "i.append(0)\n",
    "\n",
    "\n",
    "def work(i,progress,status_checkbox):\n",
    "    k = 0\n",
    "    while True:\n",
    "        if status_checkbox.value:\n",
    "            m = np.mod(i[0]+k,100)\n",
    "            time.sleep(2.)\n",
    "            progress.value = float(m+1)/100.\n",
    "            k += 1\n",
    "            \n",
    "thread = threading.Thread(target=work, args=(i,progress,status_checkbox))\n",
    "display(progress)\n",
    "thread.start()\n",
    "\n",
    "def slider_change(change):\n",
    "    i[0] = input_slider.value\n",
    "    print(i[0])\n",
    "    \n",
    "\n",
    "input_slider.observe(slider_change,names = 'value')\n",
    "display(input_slider)\n",
    "display(status_checkbox)\n"
   ]
  },
  {
   "cell_type": "code",
   "execution_count": null,
   "metadata": {},
   "outputs": [],
   "source": []
  }
 ],
 "metadata": {
  "celltoolbar": "Slideshow",
  "kernelspec": {
   "display_name": "Python 3",
   "language": "python",
   "name": "python3"
  },
  "language_info": {
   "codemirror_mode": {
    "name": "ipython",
    "version": 3
   },
   "file_extension": ".py",
   "mimetype": "text/x-python",
   "name": "python",
   "nbconvert_exporter": "python",
   "pygments_lexer": "ipython3",
   "version": "3.8.10"
  },
  "latex_envs": {
   "LaTeX_envs_menu_present": true,
   "autoclose": false,
   "autocomplete": true,
   "bibliofile": "biblio.bib",
   "cite_by": "apalike",
   "current_citInitial": 1,
   "eqLabelWithNumbers": true,
   "eqNumInitial": 1,
   "hotkeys": {
    "equation": "Ctrl-E",
    "itemize": "Ctrl-I"
   },
   "labels_anchors": false,
   "latex_user_defs": false,
   "report_style_numbering": false,
   "user_envs_cfg": false
  }
 },
 "nbformat": 4,
 "nbformat_minor": 2
}
