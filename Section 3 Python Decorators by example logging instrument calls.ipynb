{
 "cells": [
  {
   "cell_type": "markdown",
   "metadata": {},
   "source": [
    "# Advanced topic: How to use decorators \n",
    "\n",
    "Python decorators are an extremely useful and powerful python construct that makes it very easy to extend functions and methods and avoid a lot of code-duplications\n",
    "\n",
    "## Learning outcomes\n",
    "\n",
    "In this notebook we are going to learn about:\n",
    "\n",
    "* The basic concept of a decorators, what is a decorator?\n",
    "    * Functions as first-class objects\n",
    "    * Passing functions as arguments to functions\n",
    "    * Returning functions from functions\n",
    "    * Defining functions within a function\n",
    "* How to write your own decorators\n",
    "* Write a decorator that logs function calls and arguments\n",
    "    * Introduction to the logging module\n",
    "\n",
    "## Requirements\n",
    "\n",
    "* Python 3 \n",
    "* numpy\n",
    "* logging (part of the python standard library)\n",
    "* functools (part of the python standard library)"
   ]
  },
  {
   "cell_type": "code",
   "execution_count": 1,
   "metadata": {},
   "outputs": [],
   "source": [
    "import numpy as np"
   ]
  },
  {
   "cell_type": "markdown",
   "metadata": {},
   "source": [
    "## Decorators explained\n",
    "\n",
    "#### So what are decorators?\n",
    "\n",
    "\"A decorator in Python is any callable Python object that is used to modify a function or a class\" from [1] \n",
    "\n",
    "#### Wait... What?"
   ]
  },
  {
   "cell_type": "markdown",
   "metadata": {},
   "source": [
    "\n",
    "Probably the most common decorator that you will encounter is the inbuild `property` decorator.\n",
    "\n",
    "Most of you would have seen something like the following:"
   ]
  },
  {
   "cell_type": "code",
   "execution_count": 2,
   "metadata": {},
   "outputs": [],
   "source": [
    "class rectangle(object):\n",
    "    def __init__(self, x, y):\n",
    "        self.x = x\n",
    "        self.y = y\n",
    "    @property\n",
    "    def area(self):\n",
    "        return self.x*self.y"
   ]
  },
  {
   "cell_type": "code",
   "execution_count": 4,
   "metadata": {},
   "outputs": [
    {
     "name": "stdout",
     "output_type": "stream",
     "text": [
      "10.0\n"
     ]
    }
   ],
   "source": [
    "a = rectangle(2., 3.)\n",
    "a.y = 5\n",
    "print(a.area)"
   ]
  },
  {
   "cell_type": "markdown",
   "metadata": {},
   "source": [
    "## An aside on functions\n",
    "\n",
    "To understand how decorators work we have take first take a detour and look at functions in Python.\n",
    "\n",
    "In python functions are *first-class objects*, what this means is that functions can be assigned to other variables e.g. like so:"
   ]
  },
  {
   "cell_type": "code",
   "execution_count": 6,
   "metadata": {},
   "outputs": [
    {
     "name": "stdout",
     "output_type": "stream",
     "text": [
      "Hello Nick\n",
      "Hello Binbin\n"
     ]
    }
   ],
   "source": [
    "def func(x):\n",
    "    print(\"Hello {}\".format(x))\n",
    "func(\"Nick\")\n",
    "gunc = func\n",
    "gunc(\"Binbin\")"
   ]
  },
  {
   "cell_type": "markdown",
   "metadata": {},
   "source": [
    "They can be passed as parameters to other functions"
   ]
  },
  {
   "cell_type": "code",
   "execution_count": 7,
   "metadata": {},
   "outputs": [
    {
     "name": "stdout",
     "output_type": "stream",
     "text": [
      "Hello Jochen\n"
     ]
    }
   ],
   "source": [
    "def otherfunc(f):\n",
    "    f(\"Jochen\")\n",
    "otherfunc(func)"
   ]
  },
  {
   "cell_type": "markdown",
   "metadata": {},
   "source": [
    "They can also be returned from other functions:"
   ]
  },
  {
   "cell_type": "code",
   "execution_count": 8,
   "metadata": {},
   "outputs": [
    {
     "name": "stdout",
     "output_type": "stream",
     "text": [
      "Passed function func\n",
      "Hello Nick\n"
     ]
    }
   ],
   "source": [
    "def anotherfunc(f):\n",
    "    print(\"Passed function {}\".format(f.__name__))\n",
    "    return f\n",
    "g = anotherfunc(func)\n",
    "g(\"Nick\")"
   ]
  },
  {
   "cell_type": "markdown",
   "metadata": {},
   "source": [
    "In the above example we also demonstrated that the name of the function is held in the `__name__` attribute\n",
    "\n",
    "Importantly unlike e.g. in C we can define functions inside another function:"
   ]
  },
  {
   "cell_type": "code",
   "execution_count": 11,
   "metadata": {},
   "outputs": [
    {
     "name": "stdout",
     "output_type": "stream",
     "text": [
      "Hej Binbin\n",
      "Hej Nick\n"
     ]
    }
   ],
   "source": [
    "def outsidefunc(greet):\n",
    "    def greeter(name):\n",
    "        print(\"{} {}\".format(greet, name))\n",
    "    return greeter\n",
    "gg = outsidefunc(\"Hej\")\n",
    "gg(\"Binbin\")\n",
    "gg(\"Nick\")"
   ]
  },
  {
   "cell_type": "markdown",
   "metadata": {},
   "source": [
    "### How does this relate to decorators\n",
    "\n",
    "Decorators are essentially functions (or classes) that modify other functions. Let's look at a basic example."
   ]
  },
  {
   "cell_type": "code",
   "execution_count": 12,
   "metadata": {},
   "outputs": [
    {
     "name": "stdout",
     "output_type": "stream",
     "text": [
      "Calling function add\n"
     ]
    },
    {
     "data": {
      "text/plain": [
       "6.0"
      ]
     },
     "execution_count": 12,
     "metadata": {},
     "output_type": "execute_result"
    }
   ],
   "source": [
    "def add(x,y):\n",
    "    return x+y\n",
    "\n",
    "def decexample(func):\n",
    "    def wrapper(x, y):\n",
    "        print(\"Calling function {}\".format(func.__name__))\n",
    "        return func(x,y)\n",
    "    return wrapper\n",
    "\n",
    "newadd = decexample(add)\n",
    "newadd(2,4.)"
   ]
  },
  {
   "cell_type": "markdown",
   "metadata": {},
   "source": [
    "The *pythonic* syntax for decorator is using the `@` sign."
   ]
  },
  {
   "cell_type": "code",
   "execution_count": 13,
   "metadata": {},
   "outputs": [
    {
     "name": "stdout",
     "output_type": "stream",
     "text": [
      "Calling function add\n"
     ]
    },
    {
     "data": {
      "text/plain": [
       "7.0"
      ]
     },
     "execution_count": 13,
     "metadata": {},
     "output_type": "execute_result"
    }
   ],
   "source": [
    "@decexample\n",
    "def add(x,y):\n",
    "    return x+y\n",
    "add(2,5.)"
   ]
  },
  {
   "cell_type": "markdown",
   "metadata": {},
   "source": [
    "To use decorators more generally it is better to add the ability for arbitary number of arguments and keyword arguments"
   ]
  },
  {
   "cell_type": "code",
   "execution_count": 15,
   "metadata": {},
   "outputs": [
    {
     "name": "stdout",
     "output_type": "stream",
     "text": [
      "Calling function polynomial\n",
      "Number of arguments 3\n",
      "Number of keyword arguments: 1\n"
     ]
    }
   ],
   "source": [
    "def decexample(func):\n",
    "    def wrapper(*args, **kwargs):\n",
    "        print(\"Calling function {}\".format(func.__name__))\n",
    "        print(\"Number of arguments {}\".format(len(args)))\n",
    "        print(\"Number of keyword arguments: {}\".format(len(kwargs)))\n",
    "        return func(*args, **kwargs)\n",
    "    return wrapper\n",
    "\n",
    "@decexample\n",
    "def polynomial(x, a, b, c=0):\n",
    "    return a*x**2 + b*x + c\n",
    "    \n",
    "x=np.linspace(0, 10, 1000)\n",
    "y = polynomial(x, 1, 2, c=1)\n"
   ]
  },
  {
   "cell_type": "markdown",
   "metadata": {},
   "source": [
    "### Logging decorator\n",
    "\n",
    "When running experiments it is often useful to have a log of the different instrument calls, processing functions and keeping track of errors etc.. Instead of putting different logging calls into each function we can use a decorator, which gives a much cleaner interface and much less code duplication. \n",
    "\n",
    "You should also note that while in the examples here we add decorators to functions one can also add them to methods, e.g. for a instrument class.\n",
    "\n",
    "In the example we will also itroduce the logging module and show how to implement decorators with arguments."
   ]
  },
  {
   "cell_type": "code",
   "execution_count": 17,
   "metadata": {},
   "outputs": [],
   "source": [
    "import logging\n",
    "from functools import wraps\n",
    "\n",
    "logging.basicConfig(level=logging.DEBUG)"
   ]
  },
  {
   "cell_type": "markdown",
   "metadata": {},
   "source": [
    "In the above code we import the logging and functools modules (more on the second later) and initialize the logger to log all events with a severity above DEBUG level (default is WARNING). By default the logging modules logs to the standard output, if you want to log to a file use the `filename` keyword."
   ]
  },
  {
   "cell_type": "code",
   "execution_count": 18,
   "metadata": {},
   "outputs": [],
   "source": [
    "def log_event(func): # the decorator function\n",
    "    @wraps(func) \n",
    "    def logwrapper(*args, **kwargs): # the function that is returned by the decorator and performs the logging\n",
    "        frmt = \"call of {} function with arguments: \" + ', '.join([\"{}\"]*len(args)) + \" and keyword arguments \" + \", \".join([\"{}\"]*len(kwargs))\n",
    "        message = frmt.format(func.__name__, *args, *[\"{}:{}\".format(k,v) for k,v in kwargs.items()])\n",
    "        logging.debug(message)\n",
    "        return func(*args, **kwargs)\n",
    "    return logwrapper"
   ]
  },
  {
   "cell_type": "code",
   "execution_count": 19,
   "metadata": {},
   "outputs": [
    {
     "name": "stderr",
     "output_type": "stream",
     "text": [
      "DEBUG:root:call of add function with arguments: 1, 2 and keyword arguments \n",
      "DEBUG:root:call of operation function with arguments: 1, 3 and keyword arguments op:add\n"
     ]
    },
    {
     "data": {
      "text/plain": [
       "4"
      ]
     },
     "execution_count": 19,
     "metadata": {},
     "output_type": "execute_result"
    }
   ],
   "source": [
    "@log_event\n",
    "def add(x, y):\n",
    "    return x+y\n",
    "\n",
    "@log_event\n",
    "def operation(x, y, op=\"sub\"):\n",
    "    if op == \"sup\":\n",
    "        return x-y\n",
    "    elif op == \"add\":\n",
    "        return x+y\n",
    "    \n",
    "add(1,2)\n",
    "operation(1,3, op=\"add\")"
   ]
  },
  {
   "cell_type": "markdown",
   "metadata": {},
   "source": [
    "#### The @wraps decorator\n",
    "\n",
    "Let's have a closer look what the @wraps decorator does. For this we should first look at a decorator without this"
   ]
  },
  {
   "cell_type": "code",
   "execution_count": 20,
   "metadata": {},
   "outputs": [],
   "source": [
    "def do_nothing(func):\n",
    "    def nothingwrapper(*args, **kwargs):\n",
    "        print(\"I'm not doing anything\")\n",
    "        return func(*args, **kwargs)\n",
    "    return nothingwrapper\n",
    "\n",
    "@do_nothing\n",
    "def add(x, y):\n",
    "    return x+y"
   ]
  },
  {
   "cell_type": "code",
   "execution_count": 21,
   "metadata": {},
   "outputs": [
    {
     "name": "stdout",
     "output_type": "stream",
     "text": [
      "I'm not doing anything\n"
     ]
    },
    {
     "data": {
      "text/plain": [
       "3"
      ]
     },
     "execution_count": 21,
     "metadata": {},
     "output_type": "execute_result"
    }
   ],
   "source": [
    "add(1,2) #works as expected"
   ]
  },
  {
   "cell_type": "code",
   "execution_count": 22,
   "metadata": {},
   "outputs": [
    {
     "name": "stdout",
     "output_type": "stream",
     "text": [
      "<function do_nothing.<locals>.nothingwrapper at 0x7fa4d9578e50>\n"
     ]
    }
   ],
   "source": [
    "# if we want to look at the function \n",
    "print(add)"
   ]
  },
  {
   "cell_type": "markdown",
   "metadata": {},
   "source": [
    "Ok but our function should be called add?"
   ]
  },
  {
   "cell_type": "code",
   "execution_count": 23,
   "metadata": {},
   "outputs": [],
   "source": [
    "#this is where the wraps decorator comes in\n",
    "def do_nothing(func):\n",
    "    @wraps(func)\n",
    "    def nothingwrapper(*args, **kwargs):\n",
    "        print(\"I'm not doing anything\")\n",
    "        return func(*args, **kwargs)\n",
    "    return nothingwrapper\n",
    "\n",
    "@do_nothing\n",
    "def add(x, y):\n",
    "    return x+y"
   ]
  },
  {
   "cell_type": "code",
   "execution_count": 24,
   "metadata": {},
   "outputs": [
    {
     "name": "stdout",
     "output_type": "stream",
     "text": [
      "<function add at 0x7fa4d95784c0>\n"
     ]
    }
   ],
   "source": [
    "print(add) # ok all good"
   ]
  },
  {
   "cell_type": "markdown",
   "metadata": {},
   "source": [
    "### Back to logging\n",
    "\n",
    "Often we want to format the log messages differently in particular it is good to have a timestamp (note we have to restart the kernel because the logging module keeps its state)."
   ]
  },
  {
   "cell_type": "code",
   "execution_count": 1,
   "metadata": {},
   "outputs": [],
   "source": [
    "import logging\n",
    "from functools import wraps\n",
    "\n",
    "logging.basicConfig(level=logging.DEBUG, format='%(asctime)s %(message)s') # this specifies a logging format of \"time message\"\n",
    "def log_event(func):\n",
    "    @wraps(func)\n",
    "    def logwrapper(*args, **kwargs):\n",
    "        frmt = \"call of {} function with arguments: \" + ', '.join([\"{}\"]*len(args)) + \" and keyword arguments: \" + \", \".join([\"{}\"]*len(kwargs))\n",
    "        message = frmt.format(func.__name__, *args, *[\"{}:{}\".format(k,v) for k,v in kwargs.items()])\n",
    "        logging.debug(message)\n",
    "        return func(*args, **kwargs)\n",
    "    return logwrapper\n"
   ]
  },
  {
   "cell_type": "code",
   "execution_count": 2,
   "metadata": {},
   "outputs": [
    {
     "name": "stderr",
     "output_type": "stream",
     "text": [
      "2021-06-08 03:35:03,863 call of add function with arguments: 1, 2 and keyword arguments: \n",
      "2021-06-08 03:35:03,864 call of operation function with arguments: 1, 3 and keyword arguments: op:add\n"
     ]
    },
    {
     "data": {
      "text/plain": [
       "4"
      ]
     },
     "execution_count": 2,
     "metadata": {},
     "output_type": "execute_result"
    }
   ],
   "source": [
    "@log_event\n",
    "def add(x, y):\n",
    "    return x+y\n",
    "\n",
    "@log_event\n",
    "def operation(x, y, op=\"sub\"):\n",
    "    if op == \"sup\":\n",
    "        return x-y\n",
    "    elif op == \"add\":\n",
    "        return x+y\n",
    "    \n",
    "add(1,2)\n",
    "operation(1,3, op=\"add\")"
   ]
  },
  {
   "cell_type": "markdown",
   "metadata": {},
   "source": [
    "#### Decorator arguments\n",
    "\n",
    "Often it would be useful to pass arguments to the decorator, such as a custom message or a different log level. For this we need to encapsulate the decorator function in another function that takes arguments. In the following example the log_event decorator takes a custom format string and a log level. Note that the format string must be for the correct number of arguments. "
   ]
  },
  {
   "cell_type": "code",
   "execution_count": 4,
   "metadata": {},
   "outputs": [],
   "source": [
    "def logger(log_level=logging.DEBUG, msg_frmt=None): # another outer function which takes a log_level and a msg_frmt\n",
    "    def decorator_log(func): # the same logger decorator function as before\n",
    "        @wraps(func)\n",
    "        def wrapper_logger(*args, **kwargs): # the actual wrapper\n",
    "            nonlocal msg_frmt\n",
    "            if msg_frmt is None:\n",
    "                msg_frmt_out = \"call of {} function with arguments: \" + ', '.join([\"{}\"]*len(args)) + \" and keyword arguments: \" + \", \".join([\"{}\"]*len(kwargs))\n",
    "                message = msg_frmt_out.format(func.__name__, *args, *[\"{}:{}\".format(k,v) for k,v in kwargs.items()])\n",
    "            else:\n",
    "                message = msg_frmt.format(*args, *[\"{}:{}\".format(k,v) for k,v in kwargs.items()])\n",
    "            logging.log(log_level, message)\n",
    "            return func(*args, **kwargs)\n",
    "        return wrapper_logger\n",
    "    return decorator_log"
   ]
  },
  {
   "cell_type": "code",
   "execution_count": 5,
   "metadata": {},
   "outputs": [
    {
     "name": "stderr",
     "output_type": "stream",
     "text": [
      "2021-06-08 03:36:14,738 addition of 1 and 2\n",
      "2021-06-08 03:36:14,739 call of operation function with arguments: 1, 3 and keyword arguments: op:add\n"
     ]
    },
    {
     "data": {
      "text/plain": [
       "4"
      ]
     },
     "execution_count": 5,
     "metadata": {},
     "output_type": "execute_result"
    }
   ],
   "source": [
    "@logger(logging.INFO, \"addition of {} and {}\")\n",
    "def add(x, y):\n",
    "    return x+y\n",
    "\n",
    "@logger(logging.INFO)\n",
    "def operation(x, y, op=\"sub\"):\n",
    "    if op == \"sup\":\n",
    "        return x-y\n",
    "    elif op == \"add\":\n",
    "        return x+y\n",
    "    \n",
    "add(1,2)\n",
    "operation(1,3, op=\"add\")"
   ]
  },
  {
   "cell_type": "markdown",
   "metadata": {},
   "source": [
    "## But"
   ]
  },
  {
   "cell_type": "code",
   "execution_count": 6,
   "metadata": {},
   "outputs": [
    {
     "ename": "TypeError",
     "evalue": "decorator_log() takes 1 positional argument but 2 were given",
     "output_type": "error",
     "traceback": [
      "\u001b[0;31m---------------------------------------------------------------------------\u001b[0m",
      "\u001b[0;31mTypeError\u001b[0m                                 Traceback (most recent call last)",
      "\u001b[0;32m<ipython-input-6-9083790d2eee>\u001b[0m in \u001b[0;36m<module>\u001b[0;34m\u001b[0m\n\u001b[1;32m      3\u001b[0m     \u001b[0;32mreturn\u001b[0m \u001b[0mx\u001b[0m\u001b[0;34m+\u001b[0m\u001b[0my\u001b[0m\u001b[0;34m\u001b[0m\u001b[0;34m\u001b[0m\u001b[0m\n\u001b[1;32m      4\u001b[0m \u001b[0;34m\u001b[0m\u001b[0m\n\u001b[0;32m----> 5\u001b[0;31m \u001b[0madd\u001b[0m\u001b[0;34m(\u001b[0m\u001b[0;36m1\u001b[0m\u001b[0;34m,\u001b[0m\u001b[0;36m2\u001b[0m\u001b[0;34m)\u001b[0m\u001b[0;34m\u001b[0m\u001b[0;34m\u001b[0m\u001b[0m\n\u001b[0m",
      "\u001b[0;31mTypeError\u001b[0m: decorator_log() takes 1 positional argument but 2 were given"
     ]
    }
   ],
   "source": [
    "@logger\n",
    "def add(x, y):\n",
    "    return x+y\n",
    "\n",
    "add(1,2)"
   ]
  },
  {
   "cell_type": "markdown",
   "metadata": {},
   "source": [
    "The problem is that the `logger` function does not has not been called with an argument. To fix that we need to allow the logger function to recognise if it has or hasn't been called with an argument. "
   ]
  },
  {
   "cell_type": "code",
   "execution_count": 7,
   "metadata": {},
   "outputs": [],
   "source": [
    "def logger(_func = None, *, log_level=logging.DEBUG, msg_frmt=None ): # another outer function which takes the keywords (the * means catch all non-kwargs)\n",
    "    print(\"_func = {}\".format(_func))\n",
    "    def decorator_log(func): # the same logger decoratr function as before\n",
    "        @wraps(func)\n",
    "        def wrapper_logger(*args, **kwargs): # the actual wrapper that does the logging\n",
    "            nonlocal msg_frmt\n",
    "            if msg_frmt is None:\n",
    "                msg_frmt_out = \"call of {} function with arguments: \" + ', '.join([\"{}\"]*len(args)) + \" and keyword arguments: \" + \", \".join([\"{}\"]*len(kwargs))\n",
    "                message = msg_frmt_out.format(func.__name__, *args, *[\"{}:{}\".format(k,v) for k,v in kwargs.items()])\n",
    "            else:\n",
    "                message = msg_frmt.format(*args, *[\"{}:{}\".format(k,v) for k,v in kwargs.items()])\n",
    "            logging.log(log_level, message)\n",
    "            return func(*args, **kwargs)\n",
    "        return wrapper_logger\n",
    "    # the magic is here\n",
    "    if _func is None:\n",
    "        return decorator_log\n",
    "    else:\n",
    "        return decorator_log(_func)\n"
   ]
  },
  {
   "cell_type": "code",
   "execution_count": 8,
   "metadata": {},
   "outputs": [
    {
     "name": "stdout",
     "output_type": "stream",
     "text": [
      "_func = None\n",
      "_func = <function operation at 0x7fea92fd6940>\n"
     ]
    }
   ],
   "source": [
    "@logger(log_level=logging.INFO, msg_frmt=\"addition of {} and {}\")\n",
    "def add(x, y):\n",
    "    return x+y\n",
    "\n",
    "@logger\n",
    "def operation(x, y, op=\"sub\"):\n",
    "    if op == \"sup\":\n",
    "        return x-y\n",
    "    elif op == \"add\":\n",
    "        return x+y"
   ]
  },
  {
   "cell_type": "code",
   "execution_count": 9,
   "metadata": {},
   "outputs": [
    {
     "name": "stderr",
     "output_type": "stream",
     "text": [
      "2021-06-08 03:36:47,100 addition of 1 and 2\n",
      "2021-06-08 03:36:47,101 call of operation function with arguments: 1, 3 and keyword arguments: op:add\n"
     ]
    },
    {
     "data": {
      "text/plain": [
       "4"
      ]
     },
     "execution_count": 9,
     "metadata": {},
     "output_type": "execute_result"
    }
   ],
   "source": [
    "add(1,2)\n",
    "operation(1,3, op=\"add\")"
   ]
  },
  {
   "cell_type": "markdown",
   "metadata": {},
   "source": [
    "## Example: retry decorator\n",
    "\n",
    "Some instruments are buggy, i.e. they don't respond all the time, or are very slow to respond, causing timeouts. If we know these instruments we probably want to retry the command if we receive a timeout. \n",
    "\n",
    "Solution:\n",
    "* Put a for loop into each of our methods/functions for that instrument\n",
    "    * lots of code duplication\n",
    "* use a decorator"
   ]
  },
  {
   "cell_type": "markdown",
   "metadata": {},
   "source": [
    "### Solution\n"
   ]
  },
  {
   "cell_type": "code",
   "execution_count": 21,
   "metadata": {},
   "outputs": [],
   "source": [
    "import numpy as np\n",
    "def retry_on_fail(_func=None, *, max_retries=3, exception_type=Exception): # Exception type is configurable \n",
    "    def retry_decorator(func):\n",
    "        @wraps(func)\n",
    "        def retry_wrapper(*args, **kwargs):\n",
    "            nonlocal max_retries\n",
    "            for i in range(max_retries):\n",
    "                try:\n",
    "                    return func(*args, **kwargs)\n",
    "                except exception_type:\n",
    "                    print(\"An exception occurred retrying\") # we could log the event here\n",
    "                    continue\n",
    "            raise IOError(\"Retried {} times, but still get an {} Error\".format(max_retries, exception_type))\n",
    "        return retry_wrapper\n",
    "    if _func is None:\n",
    "        return retry_decorator\n",
    "    else:\n",
    "        return retry_decorator(_func)"
   ]
  },
  {
   "cell_type": "code",
   "execution_count": 22,
   "metadata": {},
   "outputs": [],
   "source": [
    "@retry_on_fail(max_retries=3)\n",
    "def failing_function(): # this is very much a dummy function\n",
    "    i = np.random.choice([True, False])\n",
    "    print(i)\n",
    "    if i:\n",
    "        print(\"I finished\")\n",
    "    else:\n",
    "        raise Exception(\"Error\")"
   ]
  },
  {
   "cell_type": "code",
   "execution_count": 23,
   "metadata": {},
   "outputs": [
    {
     "name": "stdout",
     "output_type": "stream",
     "text": [
      "0\n",
      "True\n",
      "I finished\n",
      "1\n",
      "True\n",
      "I finished\n",
      "2\n",
      "False\n",
      "An exception occurred retrying\n",
      "False\n",
      "An exception occurred retrying\n",
      "True\n",
      "I finished\n",
      "3\n",
      "False\n",
      "An exception occurred retrying\n",
      "False\n",
      "An exception occurred retrying\n",
      "False\n",
      "An exception occurred retrying\n"
     ]
    },
    {
     "ename": "OSError",
     "evalue": "Retried 3 times, but still get an <class 'Exception'> Error",
     "output_type": "error",
     "traceback": [
      "\u001b[0;31m---------------------------------------------------------------------------\u001b[0m",
      "\u001b[0;31mOSError\u001b[0m                                   Traceback (most recent call last)",
      "\u001b[0;32m<ipython-input-23-bcdf6422bdd1>\u001b[0m in \u001b[0;36m<module>\u001b[0;34m\u001b[0m\n\u001b[1;32m      1\u001b[0m \u001b[0;32mfor\u001b[0m \u001b[0mi\u001b[0m \u001b[0;32min\u001b[0m \u001b[0mrange\u001b[0m\u001b[0;34m(\u001b[0m\u001b[0;36m10\u001b[0m\u001b[0;34m)\u001b[0m\u001b[0;34m:\u001b[0m\u001b[0;34m\u001b[0m\u001b[0;34m\u001b[0m\u001b[0m\n\u001b[1;32m      2\u001b[0m     \u001b[0mprint\u001b[0m\u001b[0;34m(\u001b[0m\u001b[0mi\u001b[0m\u001b[0;34m)\u001b[0m\u001b[0;34m\u001b[0m\u001b[0;34m\u001b[0m\u001b[0m\n\u001b[0;32m----> 3\u001b[0;31m     \u001b[0mfailing_function\u001b[0m\u001b[0;34m(\u001b[0m\u001b[0;34m)\u001b[0m\u001b[0;34m\u001b[0m\u001b[0;34m\u001b[0m\u001b[0m\n\u001b[0m",
      "\u001b[0;32m<ipython-input-21-a5b202792a60>\u001b[0m in \u001b[0;36mretry_wrapper\u001b[0;34m(*args, **kwargs)\u001b[0m\n\u001b[1;32m     11\u001b[0m                     \u001b[0mprint\u001b[0m\u001b[0;34m(\u001b[0m\u001b[0;34m\"An exception occurred retrying\"\u001b[0m\u001b[0;34m)\u001b[0m \u001b[0;31m# we could log the event here\u001b[0m\u001b[0;34m\u001b[0m\u001b[0;34m\u001b[0m\u001b[0m\n\u001b[1;32m     12\u001b[0m                     \u001b[0;32mcontinue\u001b[0m\u001b[0;34m\u001b[0m\u001b[0;34m\u001b[0m\u001b[0m\n\u001b[0;32m---> 13\u001b[0;31m             \u001b[0;32mraise\u001b[0m \u001b[0mIOError\u001b[0m\u001b[0;34m(\u001b[0m\u001b[0;34m\"Retried {} times, but still get an {} Error\"\u001b[0m\u001b[0;34m.\u001b[0m\u001b[0mformat\u001b[0m\u001b[0;34m(\u001b[0m\u001b[0mmax_retries\u001b[0m\u001b[0;34m,\u001b[0m \u001b[0mexception_type\u001b[0m\u001b[0;34m)\u001b[0m\u001b[0;34m)\u001b[0m\u001b[0;34m\u001b[0m\u001b[0;34m\u001b[0m\u001b[0m\n\u001b[0m\u001b[1;32m     14\u001b[0m         \u001b[0;32mreturn\u001b[0m \u001b[0mretry_wrapper\u001b[0m\u001b[0;34m\u001b[0m\u001b[0;34m\u001b[0m\u001b[0m\n\u001b[1;32m     15\u001b[0m     \u001b[0;32mif\u001b[0m \u001b[0m_func\u001b[0m \u001b[0;32mis\u001b[0m \u001b[0;32mNone\u001b[0m\u001b[0;34m:\u001b[0m\u001b[0;34m\u001b[0m\u001b[0;34m\u001b[0m\u001b[0m\n",
      "\u001b[0;31mOSError\u001b[0m: Retried 3 times, but still get an <class 'Exception'> Error"
     ]
    }
   ],
   "source": [
    "for i in range(10):\n",
    "    print(i)\n",
    "    failing_function()"
   ]
  },
  {
   "cell_type": "markdown",
   "metadata": {},
   "source": [
    "## Nesting\n",
    "\n",
    "One great feature is that it's possible to nest decorators. So we can use our two together. \n",
    "\n",
    "**Important:** Decorator order matters:"
   ]
  },
  {
   "cell_type": "code",
   "execution_count": 24,
   "metadata": {},
   "outputs": [
    {
     "name": "stderr",
     "output_type": "stream",
     "text": [
      "2021-06-08 03:40:11,152 call of failing_function function with arguments:  and keyword arguments: \n",
      "2021-06-08 03:40:11,153 call of failing_function function with arguments:  and keyword arguments: \n",
      "2021-06-08 03:40:11,153 call of failing_function function with arguments:  and keyword arguments: \n",
      "2021-06-08 03:40:11,154 call of failing_function function with arguments:  and keyword arguments: \n",
      "2021-06-08 03:40:11,154 call of failing_function function with arguments:  and keyword arguments: \n",
      "2021-06-08 03:40:11,155 call of failing_function function with arguments:  and keyword arguments: \n",
      "2021-06-08 03:40:11,155 call of failing_function function with arguments:  and keyword arguments: \n",
      "2021-06-08 03:40:11,156 call of failing_function function with arguments:  and keyword arguments: \n",
      "2021-06-08 03:40:11,156 call of failing_function function with arguments:  and keyword arguments: \n",
      "2021-06-08 03:40:11,157 call of failing_function function with arguments:  and keyword arguments: \n",
      "2021-06-08 03:40:11,158 call of failing_function function with arguments:  and keyword arguments: \n",
      "2021-06-08 03:40:11,158 call of failing_function function with arguments:  and keyword arguments: \n",
      "2021-06-08 03:40:11,159 call of failing_function function with arguments:  and keyword arguments: \n",
      "2021-06-08 03:40:11,159 call of failing_function function with arguments:  and keyword arguments: \n",
      "2021-06-08 03:40:11,160 call of failing_function function with arguments:  and keyword arguments: \n",
      "2021-06-08 03:40:11,161 call of failing_function function with arguments:  and keyword arguments: \n",
      "2021-06-08 03:40:11,161 call of failing_function function with arguments:  and keyword arguments: \n",
      "2021-06-08 03:40:11,162 call of failing_function function with arguments:  and keyword arguments: \n",
      "2021-06-08 03:40:11,162 call of failing_function function with arguments:  and keyword arguments: \n"
     ]
    },
    {
     "name": "stdout",
     "output_type": "stream",
     "text": [
      "_func = None\n",
      "0\n",
      "choice: False\n",
      "An exception occurred retrying\n",
      "choice: True\n",
      "I finished\n",
      "1\n",
      "choice: False\n",
      "An exception occurred retrying\n",
      "choice: True\n",
      "I finished\n",
      "2\n",
      "choice: False\n",
      "An exception occurred retrying\n",
      "choice: True\n",
      "I finished\n",
      "3\n",
      "choice: True\n",
      "I finished\n",
      "4\n",
      "choice: False\n",
      "An exception occurred retrying\n",
      "choice: False\n",
      "An exception occurred retrying\n",
      "choice: True\n",
      "I finished\n",
      "5\n",
      "choice: False\n",
      "An exception occurred retrying\n",
      "choice: True\n",
      "I finished\n",
      "6\n",
      "choice: True\n",
      "I finished\n",
      "7\n",
      "choice: True\n",
      "I finished\n",
      "8\n",
      "choice: False\n",
      "An exception occurred retrying\n",
      "choice: True\n",
      "I finished\n",
      "9\n",
      "choice: False\n",
      "An exception occurred retrying\n",
      "choice: False\n",
      "An exception occurred retrying\n",
      "choice: False\n",
      "An exception occurred retrying\n"
     ]
    },
    {
     "ename": "OSError",
     "evalue": "Retried 3 times, but still get an <class 'Exception'> Error",
     "output_type": "error",
     "traceback": [
      "\u001b[0;31m---------------------------------------------------------------------------\u001b[0m",
      "\u001b[0;31mOSError\u001b[0m                                   Traceback (most recent call last)",
      "\u001b[0;32m<ipython-input-24-8816ff9c62b7>\u001b[0m in \u001b[0;36m<module>\u001b[0;34m\u001b[0m\n\u001b[1;32m     11\u001b[0m \u001b[0;32mfor\u001b[0m \u001b[0mi\u001b[0m \u001b[0;32min\u001b[0m \u001b[0mrange\u001b[0m\u001b[0;34m(\u001b[0m\u001b[0;36m10\u001b[0m\u001b[0;34m)\u001b[0m\u001b[0;34m:\u001b[0m\u001b[0;34m\u001b[0m\u001b[0;34m\u001b[0m\u001b[0m\n\u001b[1;32m     12\u001b[0m     \u001b[0mprint\u001b[0m\u001b[0;34m(\u001b[0m\u001b[0mi\u001b[0m\u001b[0;34m)\u001b[0m\u001b[0;34m\u001b[0m\u001b[0;34m\u001b[0m\u001b[0m\n\u001b[0;32m---> 13\u001b[0;31m     \u001b[0mfailing_function\u001b[0m\u001b[0;34m(\u001b[0m\u001b[0;34m)\u001b[0m\u001b[0;34m\u001b[0m\u001b[0;34m\u001b[0m\u001b[0m\n\u001b[0m",
      "\u001b[0;32m<ipython-input-21-a5b202792a60>\u001b[0m in \u001b[0;36mretry_wrapper\u001b[0;34m(*args, **kwargs)\u001b[0m\n\u001b[1;32m     11\u001b[0m                     \u001b[0mprint\u001b[0m\u001b[0;34m(\u001b[0m\u001b[0;34m\"An exception occurred retrying\"\u001b[0m\u001b[0;34m)\u001b[0m \u001b[0;31m# we could log the event here\u001b[0m\u001b[0;34m\u001b[0m\u001b[0;34m\u001b[0m\u001b[0m\n\u001b[1;32m     12\u001b[0m                     \u001b[0;32mcontinue\u001b[0m\u001b[0;34m\u001b[0m\u001b[0;34m\u001b[0m\u001b[0m\n\u001b[0;32m---> 13\u001b[0;31m             \u001b[0;32mraise\u001b[0m \u001b[0mIOError\u001b[0m\u001b[0;34m(\u001b[0m\u001b[0;34m\"Retried {} times, but still get an {} Error\"\u001b[0m\u001b[0;34m.\u001b[0m\u001b[0mformat\u001b[0m\u001b[0;34m(\u001b[0m\u001b[0mmax_retries\u001b[0m\u001b[0;34m,\u001b[0m \u001b[0mexception_type\u001b[0m\u001b[0;34m)\u001b[0m\u001b[0;34m)\u001b[0m\u001b[0;34m\u001b[0m\u001b[0;34m\u001b[0m\u001b[0m\n\u001b[0m\u001b[1;32m     14\u001b[0m         \u001b[0;32mreturn\u001b[0m \u001b[0mretry_wrapper\u001b[0m\u001b[0;34m\u001b[0m\u001b[0;34m\u001b[0m\u001b[0m\n\u001b[1;32m     15\u001b[0m     \u001b[0;32mif\u001b[0m \u001b[0m_func\u001b[0m \u001b[0;32mis\u001b[0m \u001b[0;32mNone\u001b[0m\u001b[0;34m:\u001b[0m\u001b[0;34m\u001b[0m\u001b[0;34m\u001b[0m\u001b[0m\n",
      "\u001b[0;31mOSError\u001b[0m: Retried 3 times, but still get an <class 'Exception'> Error"
     ]
    }
   ],
   "source": [
    "@retry_on_fail(max_retries=3, exception_type=Exception)\n",
    "@logger(log_level=logging.DEBUG, msg_frmt=None)\n",
    "def failing_function(): # this is very much a dummy function\n",
    "    i = np.random.choice([True, False])\n",
    "    print(\"choice: {}\".format(i))\n",
    "    if i:\n",
    "        print(\"I finished\")\n",
    "    else:\n",
    "        raise Exception(\"Error\")\n",
    "        \n",
    "for i in range(10):\n",
    "    print(i)\n",
    "    failing_function()"
   ]
  },
  {
   "cell_type": "code",
   "execution_count": 25,
   "metadata": {},
   "outputs": [
    {
     "name": "stderr",
     "output_type": "stream",
     "text": [
      "2021-06-08 03:40:27,218 call of failing_function function with arguments:  and keyword arguments: \n",
      "2021-06-08 03:40:27,219 call of failing_function function with arguments:  and keyword arguments: \n",
      "2021-06-08 03:40:27,220 call of failing_function function with arguments:  and keyword arguments: \n",
      "2021-06-08 03:40:27,221 call of failing_function function with arguments:  and keyword arguments: \n",
      "2021-06-08 03:40:27,222 call of failing_function function with arguments:  and keyword arguments: \n"
     ]
    },
    {
     "name": "stdout",
     "output_type": "stream",
     "text": [
      "_func = None\n",
      "0\n",
      "choice: True\n",
      "I finished\n",
      "1\n",
      "choice: False\n",
      "An exception occurred retrying\n",
      "choice: True\n",
      "I finished\n",
      "2\n",
      "choice: False\n",
      "An exception occurred retrying\n",
      "choice: True\n",
      "I finished\n",
      "3\n",
      "choice: False\n",
      "An exception occurred retrying\n",
      "choice: True\n",
      "I finished\n",
      "4\n",
      "choice: False\n",
      "An exception occurred retrying\n",
      "choice: False\n",
      "An exception occurred retrying\n",
      "choice: False\n",
      "An exception occurred retrying\n"
     ]
    },
    {
     "ename": "OSError",
     "evalue": "Retried 3 times, but still get an <class 'Exception'> Error",
     "output_type": "error",
     "traceback": [
      "\u001b[0;31m---------------------------------------------------------------------------\u001b[0m",
      "\u001b[0;31mOSError\u001b[0m                                   Traceback (most recent call last)",
      "\u001b[0;32m<ipython-input-25-bda056417941>\u001b[0m in \u001b[0;36m<module>\u001b[0;34m\u001b[0m\n\u001b[1;32m     11\u001b[0m \u001b[0;32mfor\u001b[0m \u001b[0mi\u001b[0m \u001b[0;32min\u001b[0m \u001b[0mrange\u001b[0m\u001b[0;34m(\u001b[0m\u001b[0;36m10\u001b[0m\u001b[0;34m)\u001b[0m\u001b[0;34m:\u001b[0m\u001b[0;34m\u001b[0m\u001b[0;34m\u001b[0m\u001b[0m\n\u001b[1;32m     12\u001b[0m     \u001b[0mprint\u001b[0m\u001b[0;34m(\u001b[0m\u001b[0mi\u001b[0m\u001b[0;34m)\u001b[0m\u001b[0;34m\u001b[0m\u001b[0;34m\u001b[0m\u001b[0m\n\u001b[0;32m---> 13\u001b[0;31m     \u001b[0mfailing_function\u001b[0m\u001b[0;34m(\u001b[0m\u001b[0;34m)\u001b[0m\u001b[0;34m\u001b[0m\u001b[0;34m\u001b[0m\u001b[0m\n\u001b[0m",
      "\u001b[0;32m<ipython-input-7-22b2cff4c66e>\u001b[0m in \u001b[0;36mwrapper_logger\u001b[0;34m(*args, **kwargs)\u001b[0m\n\u001b[1;32m     11\u001b[0m                 \u001b[0mmessage\u001b[0m \u001b[0;34m=\u001b[0m \u001b[0mmsg_frmt\u001b[0m\u001b[0;34m.\u001b[0m\u001b[0mformat\u001b[0m\u001b[0;34m(\u001b[0m\u001b[0;34m*\u001b[0m\u001b[0margs\u001b[0m\u001b[0;34m,\u001b[0m \u001b[0;34m*\u001b[0m\u001b[0;34m[\u001b[0m\u001b[0;34m\"{}:{}\"\u001b[0m\u001b[0;34m.\u001b[0m\u001b[0mformat\u001b[0m\u001b[0;34m(\u001b[0m\u001b[0mk\u001b[0m\u001b[0;34m,\u001b[0m\u001b[0mv\u001b[0m\u001b[0;34m)\u001b[0m \u001b[0;32mfor\u001b[0m \u001b[0mk\u001b[0m\u001b[0;34m,\u001b[0m\u001b[0mv\u001b[0m \u001b[0;32min\u001b[0m \u001b[0mkwargs\u001b[0m\u001b[0;34m.\u001b[0m\u001b[0mitems\u001b[0m\u001b[0;34m(\u001b[0m\u001b[0;34m)\u001b[0m\u001b[0;34m]\u001b[0m\u001b[0;34m)\u001b[0m\u001b[0;34m\u001b[0m\u001b[0;34m\u001b[0m\u001b[0m\n\u001b[1;32m     12\u001b[0m             \u001b[0mlogging\u001b[0m\u001b[0;34m.\u001b[0m\u001b[0mlog\u001b[0m\u001b[0;34m(\u001b[0m\u001b[0mlog_level\u001b[0m\u001b[0;34m,\u001b[0m \u001b[0mmessage\u001b[0m\u001b[0;34m)\u001b[0m\u001b[0;34m\u001b[0m\u001b[0;34m\u001b[0m\u001b[0m\n\u001b[0;32m---> 13\u001b[0;31m             \u001b[0;32mreturn\u001b[0m \u001b[0mfunc\u001b[0m\u001b[0;34m(\u001b[0m\u001b[0;34m*\u001b[0m\u001b[0margs\u001b[0m\u001b[0;34m,\u001b[0m \u001b[0;34m**\u001b[0m\u001b[0mkwargs\u001b[0m\u001b[0;34m)\u001b[0m\u001b[0;34m\u001b[0m\u001b[0;34m\u001b[0m\u001b[0m\n\u001b[0m\u001b[1;32m     14\u001b[0m         \u001b[0;32mreturn\u001b[0m \u001b[0mwrapper_logger\u001b[0m\u001b[0;34m\u001b[0m\u001b[0;34m\u001b[0m\u001b[0m\n\u001b[1;32m     15\u001b[0m     \u001b[0;31m# the magic is here\u001b[0m\u001b[0;34m\u001b[0m\u001b[0;34m\u001b[0m\u001b[0;34m\u001b[0m\u001b[0m\n",
      "\u001b[0;32m<ipython-input-21-a5b202792a60>\u001b[0m in \u001b[0;36mretry_wrapper\u001b[0;34m(*args, **kwargs)\u001b[0m\n\u001b[1;32m     11\u001b[0m                     \u001b[0mprint\u001b[0m\u001b[0;34m(\u001b[0m\u001b[0;34m\"An exception occurred retrying\"\u001b[0m\u001b[0;34m)\u001b[0m \u001b[0;31m# we could log the event here\u001b[0m\u001b[0;34m\u001b[0m\u001b[0;34m\u001b[0m\u001b[0m\n\u001b[1;32m     12\u001b[0m                     \u001b[0;32mcontinue\u001b[0m\u001b[0;34m\u001b[0m\u001b[0;34m\u001b[0m\u001b[0m\n\u001b[0;32m---> 13\u001b[0;31m             \u001b[0;32mraise\u001b[0m \u001b[0mIOError\u001b[0m\u001b[0;34m(\u001b[0m\u001b[0;34m\"Retried {} times, but still get an {} Error\"\u001b[0m\u001b[0;34m.\u001b[0m\u001b[0mformat\u001b[0m\u001b[0;34m(\u001b[0m\u001b[0mmax_retries\u001b[0m\u001b[0;34m,\u001b[0m \u001b[0mexception_type\u001b[0m\u001b[0;34m)\u001b[0m\u001b[0;34m)\u001b[0m\u001b[0;34m\u001b[0m\u001b[0;34m\u001b[0m\u001b[0m\n\u001b[0m\u001b[1;32m     14\u001b[0m         \u001b[0;32mreturn\u001b[0m \u001b[0mretry_wrapper\u001b[0m\u001b[0;34m\u001b[0m\u001b[0;34m\u001b[0m\u001b[0m\n\u001b[1;32m     15\u001b[0m     \u001b[0;32mif\u001b[0m \u001b[0m_func\u001b[0m \u001b[0;32mis\u001b[0m \u001b[0;32mNone\u001b[0m\u001b[0;34m:\u001b[0m\u001b[0;34m\u001b[0m\u001b[0;34m\u001b[0m\u001b[0m\n",
      "\u001b[0;31mOSError\u001b[0m: Retried 3 times, but still get an <class 'Exception'> Error"
     ]
    }
   ],
   "source": [
    "@logger(log_level=logging.DEBUG, msg_frmt=None)\n",
    "@retry_on_fail(max_retries=3, exception_type=Exception)\n",
    "def failing_function(): # this is very much a dummy function\n",
    "    i = np.random.choice([True, False])\n",
    "    print(\"choice: {}\".format(i))\n",
    "    if i:\n",
    "        print(\"I finished\")\n",
    "    else:\n",
    "        raise Exception(\"Error\")\n",
    "        \n",
    "for i in range(10):\n",
    "    print(i)\n",
    "    failing_function()"
   ]
  },
  {
   "cell_type": "markdown",
   "metadata": {},
   "source": [
    "### Further reading\n",
    "\n",
    "1. [Primer on Python decorators](https://realpython.com/primer-on-python-decorators/)\n",
    "2. [Python Tutorial: Easy Introduction to Decorators](https://www.python-course.eu/python3_decorators.php)\n",
    "3. [Journal Dev: Python Decorator Example](https://www.journaldev.com/14932/python-decorator-example)"
   ]
  }
 ],
 "metadata": {
  "kernelspec": {
   "display_name": "Python 3",
   "language": "python",
   "name": "python3"
  },
  "language_info": {
   "codemirror_mode": {
    "name": "ipython",
    "version": 3
   },
   "file_extension": ".py",
   "mimetype": "text/x-python",
   "name": "python",
   "nbconvert_exporter": "python",
   "pygments_lexer": "ipython3",
   "version": "3.8.10"
  },
  "latex_envs": {
   "LaTeX_envs_menu_present": true,
   "autoclose": false,
   "autocomplete": true,
   "bibliofile": "biblio.bib",
   "cite_by": "apalike",
   "current_citInitial": 1,
   "eqLabelWithNumbers": true,
   "eqNumInitial": 1,
   "hotkeys": {
    "equation": "Ctrl-E",
    "itemize": "Ctrl-I"
   },
   "labels_anchors": false,
   "latex_user_defs": false,
   "report_style_numbering": false,
   "user_envs_cfg": false
  }
 },
 "nbformat": 4,
 "nbformat_minor": 2
}
