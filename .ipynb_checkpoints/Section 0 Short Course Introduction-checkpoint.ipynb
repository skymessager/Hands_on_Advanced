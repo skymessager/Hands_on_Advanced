{
 "cells": [
  {
   "cell_type": "markdown",
   "metadata": {
    "slideshow": {
     "slide_type": "slide"
    }
   },
   "source": [
    "# Labautomation Short Course\n",
    "\n",
    "Welcome to the labautomation short course (advanced).\n",
    "\n",
    "We are:\n",
    "* Nicolas Fontaine (Nokia Bell Labs) [nicolas.fontaine@nokia-bell-labs.com](mailto:nicolas.fontaine@nokia-bell-labs.com)\n",
    "* Binbin Guan (Acacia) [RGuan@acacia-inc.com](mailto:RGuan@acacia-inc.com)\n",
    "* Jochen Schröder (Chalmers University of Technology) [jochen.schroeder@chalmers.se](mailto:jochen.schroeder@chalmers.se)\n"
   ]
  },
  {
   "cell_type": "markdown",
   "metadata": {
    "slideshow": {
     "slide_type": "slide"
    }
   },
   "source": [
    "## Why this short-course?\n",
    "\n",
    "* Over the last decade optical communication and photonics experiments have become increasingly involved. \n",
    "* It is now not uncommon that state-of-the-art transmission experiments require measurments of more than a hundred of channel at possibly ten or more different transmission distances. \n",
    "* This easily adds up to hundreds to thousands of individual measurement points. \n",
    "* __Nearly impossible__ to measure manually "
   ]
  },
  {
   "cell_type": "markdown",
   "metadata": {
    "slideshow": {
     "slide_type": "subslide"
    }
   },
   "source": [
    "Labautomation is now crucial to perform cutting edge experiments. \n",
    "\n",
    "* __But__ no real guidance.\n",
    "    * no courses in engineering or science studies (maybe basic programming)\n",
    "    * expensive courses for proprietary software \n",
    "    * everyone reinvents the wheel again \n",
    "    * we are research scientists *not* software developers, so often make rookie mistakes"
   ]
  },
  {
   "cell_type": "markdown",
   "metadata": {
    "slideshow": {
     "slide_type": "subslide"
    }
   },
   "source": [
    "__This course__(SC487) covers advanced topics for using python in photonic research and applications. \n",
    "* *Importantly* using free and open source tools (Python)\n"
   ]
  },
  {
   "cell_type": "markdown",
   "metadata": {
    "slideshow": {
     "slide_type": "slide"
    }
   },
   "source": [
    "## History\n",
    "\n",
    "* **2016** Nick and myself (both big Python fans) started talking about ways to introduce people to open source tools for labautomation\n",
    "    * brought Binbin on board\n",
    "    * started the lab-automation hackathons  \n",
    "* **2017** The first labautomation hackathon at OFC 2017\n",
    "    * Further hackathons at ECOC,OFC, Photonic West and many others\n",
    "* **2019** First OFC short course for hands-on lab automation with python\n",
    "    * Over 70 attendees, very helpful and positive feedback\n",
    "\n",
    "Great to get people to talk and give some introductions of what is being done, but how can we help a student (or researcher) get started?\n",
    "\n",
    "**2020 OFC Lab Automation Hackathon: Sunday, 8 March, 20:00 - 22:00, location: TBD**"
   ]
  },
  {
   "cell_type": "markdown",
   "metadata": {
    "slideshow": {
     "slide_type": "slide"
    }
   },
   "source": [
    "## Learning Outcomes\n",
    "\n",
    "It is not possible to cover all the details, but we will pick the most useful tools and tips that we have experience with.\n",
    "*However* instead we aim to provide you with some tools, ideas and patterns that we found usefull in our work and that will give you a starting (or continuation) point to implement lab automation for your experimental needs. We present these ideas and patterns based on some example instruments (real and virtual) that are typical for a photonics laboratory. "
   ]
  },
  {
   "cell_type": "markdown",
   "metadata": {
    "slideshow": {
     "slide_type": "subslide"
    }
   },
   "source": [
    "At the end of this course we aim for you to have an understanding of:\n",
    "* The Python programming language\n",
    "* How to write classes, decorators\n",
    "* How to use ipywidgets for lab automation visualization\n",
    "* How to write object oriented code for interfacing to lab instruments\n",
    "* How to interface with c-code in Python\n",
    "* How to speed up your code"
   ]
  },
  {
   "cell_type": "markdown",
   "metadata": {
    "slideshow": {
     "slide_type": "slide"
    }
   },
   "source": [
    "## Requirements\n",
    "\n",
    "**Important:** We assume you already have a Python environment to work with. We prefer to use Anaconda distribution for this course.\n",
    "\n",
    "### Python\n",
    "\n",
    "This course is based on programing in Python a free, open source programming language. \n",
    "\n",
    "Two versions of Python exists:\n",
    "* Python 2 (legacy)\n",
    "* Python 3 \n",
    "\n",
    "\n",
    "\n",
    "\n",
    "\n"
   ]
  },
  {
   "cell_type": "markdown",
   "metadata": {},
   "source": [
    "While they are generally very similar, unless care is taken code is not compatible across the two versions\n",
    "\n",
    "**All course content is based on Python 3** \n",
    "\n",
    "Unless you absolutely require a module that is only available in Python 2 we highly recommend using Python 3 for all your projects, as Python 2 is unmaintened in 2020.\n",
    "\n",
    "Python 3 is available for all major operating systems, including Windows, OSX and Linux and we assume that you have a Python 3 installed.\n"
   ]
  },
  {
   "cell_type": "markdown",
   "metadata": {},
   "source": [
    "### Jupyter\n",
    "\n",
    "Jupyter (previously ipython notebook) is a in-browser programming enviroment initially developed for Python, but now compatible with *R*, *Julia* and others. We used jupyter to generate the course content and recommend to use it as your programming enviroment for this course.\n",
    "\n",
    "### Numpy\n",
    "\n",
    "Numpy is a Python module that implements an array class as well as efficient operations and functions for this class. It is absolutely central to almost any scientific or engineering package in Python\n"
   ]
  },
  {
   "cell_type": "markdown",
   "metadata": {},
   "source": [
    "### Scipy\n",
    "\n",
    "Scipy is a large package of additional scientific tools (such as linear algebra operations, signal processing functions etc.). \n",
    "\n",
    "### PyVISA\n",
    "\n",
    "The VISA standard and NI-VISA are probably still the most universal way of interfacing to most lab-instruments. PyVISA was initially a python wrapper around the NI-VISA library, but has since gained an independent implementation of VISA. It provides a convenient interface to GPIB, serial port, ethernet and USB devices. "
   ]
  },
  {
   "cell_type": "markdown",
   "metadata": {
    "slideshow": {
     "slide_type": "subslide"
    }
   },
   "source": [
    "### Matplotlib\n",
    "\n",
    "Matplotlib is arguably the best plotting module for producing publication ready graphics in Python\n",
    "\n",
    "### Bokeh\n",
    "\n",
    "Bokeh is a plotting library for the browser, in contrast to matplotlib it is aimed more at interactive graphics and graphical user interfaces (GUIs). Where matplotlib is \n",
    "often slow for interactive graphics, bokeh is often much faster.\n"
   ]
  },
  {
   "cell_type": "markdown",
   "metadata": {
    "slideshow": {
     "slide_type": "subslide"
    }
   },
   "source": [
    "\n",
    "### Cython\n",
    "\n",
    "Cython is an enhanced Python dialect that can be directly compiled to C. It enables to significantly speed up performance bottlenecks in your Python code. We will use it to interface to C-libraries.\n",
    "\n",
    "### Ctypes\n",
    "\n",
    "Ctypes is another way to interface to native C-libraries from Python. It does not offer the same flexiblity and performance as Cython, but is arguably easier to use, in particular for simple interfaces."
   ]
  },
  {
   "cell_type": "markdown",
   "metadata": {
    "slideshow": {
     "slide_type": "slide"
    }
   },
   "source": [
    "## Course Slides\n",
    "\n",
    "All the course content is written in Jupyter Notebooks (we talk about this later). \n",
    "\n",
    "You can download them at: https://gitlab.com/python4photonics/ofcshortcourse|"
   ]
  },
  {
   "cell_type": "markdown",
   "metadata": {
    "slideshow": {
     "slide_type": "slide"
    }
   },
   "source": [
    "## Schedule\n",
    "\n",
    "1. Ipywidgets for Graphic User Interface\n",
    "2. Object-Oriented Programming for Instrument Control\n",
    "3. Python Decorators by example logging instrument calls\n",
    "4. Interfacing with C code\n",
    "5. Pythran and Cython to Speed up Python Code\n",
    "6. Demo of interfacing with actual instruments\n",
    "7. How to save and load data with Python\n",
    "8. Final words"
   ]
  },
  {
   "cell_type": "code",
   "execution_count": null,
   "metadata": {},
   "outputs": [],
   "source": []
  }
 ],
 "metadata": {
  "celltoolbar": "Slideshow",
  "kernelspec": {
   "display_name": "Python 3",
   "language": "python",
   "name": "python3"
  },
  "language_info": {
   "codemirror_mode": {
    "name": "ipython",
    "version": 3
   },
   "file_extension": ".py",
   "mimetype": "text/x-python",
   "name": "python",
   "nbconvert_exporter": "python",
   "pygments_lexer": "ipython3",
   "version": "3.7.4"
  }
 },
 "nbformat": 4,
 "nbformat_minor": 2
}
