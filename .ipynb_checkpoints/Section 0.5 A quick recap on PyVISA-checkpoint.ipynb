{
 "cells": [
  {
   "cell_type": "markdown",
   "metadata": {},
   "source": [
    "# An Introduction to PyVISA\n",
    "\n",
    "Interfacing to measurement instruments can be a pain. There exist many protocols, interfaces send over many different bus systems. The  Virtual Instrument Software Architecture (VISA) specification was defined in the middle of the 90ies to standardize the different protocols and allow interfacing different devices over different bus systems with a single library, Thus avoiding having to find the correct library for every device in an experiment.\n",
    "\n",
    "## Summary\n",
    "\n",
    "We will briefly revisit some of the basics about pyVISA covered in SC469.\n",
    "\n",
    "\n",
    "## Requirements\n",
    "\n",
    "You need:\n",
    "* PyVISA\n",
    "* PyVISA-py (a Python implementation of the VISA standard)\n",
    "* (optional) NI-VISA or Agilent instrumentation \n",
    "* (optional) PyVISA-sim"
   ]
  },
  {
   "cell_type": "markdown",
   "metadata": {},
   "source": [
    "## Installation\n",
    "\n",
    "PyVISA can be installed using the conda \n",
    "```conda install pyvisa```\n",
    "or pip \n",
    "```pip install pyvisa```\n",
    "\n",
    "It also needs an installed backend. It contains a wrapper for NI-VISA or a compatible implementation by default, but we will also be using PyVISA-py a python implementation of the VISA standard, you can install it with:\n",
    "`conda install pyvisa-py` or `pip install pyvisa-py`. The simulation backend can be installed with `pip install pyvisa-sim`\n",
    "\n",
    "Test your installation:"
   ]
  },
  {
   "cell_type": "code",
   "execution_count": 1,
   "metadata": {},
   "outputs": [
    {
     "name": "stdout",
     "output_type": "stream",
     "text": [
      "('ASRL/dev/ttyS0::INSTR',)\n"
     ]
    }
   ],
   "source": [
    "import pyvisa as visa # note the recommended way to import pyvisa changed as there is an unrelated visa module\n",
    "import numpy as np\n",
    "rm = visa.ResourceManager()\n",
    "print(rm.list_resources())"
   ]
  },
  {
   "cell_type": "markdown",
   "metadata": {},
   "source": [
    "## Further Reading\n",
    "\n",
    "* [PyVISA documentation](https://pyvisa.readthedocs.io/)"
   ]
  },
  {
   "cell_type": "markdown",
   "metadata": {},
   "source": [
    "## Configuring the backend\n",
    "\n",
    "The backend is chosen when initiating the backend. By default PyVISA will use the NI-VISA backend. Therefore the code"
   ]
  },
  {
   "cell_type": "code",
   "execution_count": 2,
   "metadata": {},
   "outputs": [],
   "source": [
    "rm = visa.ResourceManager()"
   ]
  },
  {
   "cell_type": "markdown",
   "metadata": {},
   "source": [
    "Will open the interface to the NI-VISA library. In general PyVISA is very good at finding the location of the library, however it is possible to also specify the path if the library is located in an odd location `rm = visa.ResourceManger(\"/path/to/library.dll\")`. It is also possible to specify the path in a configuration file (see the [PyVISA documentation](https://pyvisa.readthedocs.io/en/master/index.htm) for more details and troubleshooting)"
   ]
  },
  {
   "cell_type": "markdown",
   "metadata": {},
   "source": [
    "### Backends\n",
    "\n",
    "As far as we are aware Pyvisa works with all backends. The two most common and functionally complete ones are\n",
    "* the National Instruments VISA backend (NI-VISA) \n",
    "* Keysights IO libraries suite. \n",
    "\n",
    "There are also:\n",
    "* An open source Python backend\n",
    "* A simulation backend"
   ]
  },
  {
   "cell_type": "markdown",
   "metadata": {},
   "source": [
    "### Python backend\n",
    "\n",
    "Installation of the NI-VISA library (or a compatible implementation) can sometimes be painful. Particular on linux and embedded computers. Instead you can use the python implementation. Be aware that it is not as feature complete as the NI-VISA implementation, in particular drivers to certain GPIB devices (e.g. some GPIB/Ethernet bridges) are missing.\n",
    "\n",
    "To use the Python backend (if installed) use:"
   ]
  },
  {
   "cell_type": "code",
   "execution_count": 2,
   "metadata": {},
   "outputs": [],
   "source": [
    "rm = visa.ResourceManager('@py')"
   ]
  },
  {
   "cell_type": "markdown",
   "metadata": {},
   "source": [
    "## Simulation backend\n",
    "\n",
    "The simulation backend (pyvisa-sim) is useful for writing drivers to simulated devices if the instrument is not available. It's very good for testing for example. Simulation backends and devices are defined in YAML files. See the the [PyVISA-sim documentation](https://pyvisa-sim.readthedocs.io/en/latest/index.html) for more information.\n",
    "\n",
    "To use the pyvisa-sim backend create the resource manager with:\n"
   ]
  },
  {
   "cell_type": "code",
   "execution_count": 3,
   "metadata": {},
   "outputs": [],
   "source": [
    "rm = visa.ResourceManager('@sim')"
   ]
  },
  {
   "cell_type": "markdown",
   "metadata": {},
   "source": [
    "To use a specific simulation file start with:"
   ]
  },
  {
   "cell_type": "code",
   "execution_count": 4,
   "metadata": {},
   "outputs": [],
   "source": [
    "rm = visa.ResourceManager(\"thorlabs.yml@sim\")"
   ]
  },
  {
   "cell_type": "markdown",
   "metadata": {},
   "source": [
    "where `thorlabs.yml` is the YAML specification file."
   ]
  },
  {
   "cell_type": "markdown",
   "metadata": {},
   "source": [
    "To find out what backend we are using we can use the `visalib.library_path` attribute of the resource manager object"
   ]
  },
  {
   "cell_type": "code",
   "execution_count": 5,
   "metadata": {},
   "outputs": [
    {
     "name": "stdout",
     "output_type": "stream",
     "text": [
      "thorlabs.yml\n"
     ]
    }
   ],
   "source": [
    "print(rm.visalib.library_path)"
   ]
  },
  {
   "cell_type": "markdown",
   "metadata": {},
   "source": [
    "## How to use PyVISA\n",
    "\n",
    "PyVISA is an object oriented \"pythonic\" interface to the VISA library. The two central objects are the Resource manager and Resources.\n",
    "\n",
    "### Resources\n",
    "\n",
    "PyVISA resources are essentially the devices (instruments) connected to the different bus systems (GPIB, USB ...). \n",
    "\n",
    "### Resource Manger\n",
    "\n",
    "The Resource Manager is responsible for listing available device, opening new devices and deciding what resource type a new device should have."
   ]
  },
  {
   "cell_type": "markdown",
   "metadata": {},
   "source": [
    "### Basic Example\n",
    "\n",
    "Let's look at a basic example which lists several resources and opens the first available resource."
   ]
  },
  {
   "cell_type": "code",
   "execution_count": 2,
   "metadata": {},
   "outputs": [
    {
     "name": "stdout",
     "output_type": "stream",
     "text": [
      "('ASRL1::INSTR', 'USB0::0x1111::0x2222::0x1234::0::INSTR', 'TCPIP0::localhost::inst0::INSTR', 'GPIB0::8::0::INSTR', 'ASRL2::INSTR', 'USB0::0x1111::0x2222::0x2468::0::INSTR', 'TCPIP0::localhost:2222::inst0::INSTR', 'GPIB0::9::0::INSTR', 'ASRL3::INSTR', 'USB0::0x1111::0x2222::0x3692::0::INSTR', 'TCPIP0::localhost:3333::inst0::INSTR', 'GPIB0::10::0::INSTR', 'ASRL4::INSTR', 'USB0::0x1111::0x2222::0x4444::0::INSTR', 'TCPIP0::localhost:4444::inst0::INSTR', 'GPIB0::4::0::INSTR')\n"
     ]
    }
   ],
   "source": [
    "rm = visa.ResourceManager('thorlabs.yml@sim')\n",
    "l = rm.list_resources()\n",
    "print(l)\n",
    "inst1 = rm.open_resource(l[0])"
   ]
  },
  {
   "cell_type": "code",
   "execution_count": 3,
   "metadata": {},
   "outputs": [
    {
     "name": "stdout",
     "output_type": "stream",
     "text": [
      "SerialInstrument at ASRL1::INSTR\n"
     ]
    }
   ],
   "source": [
    "print(inst1)"
   ]
  },
  {
   "cell_type": "markdown",
   "metadata": {},
   "source": [
    "This is a device on the first serial port."
   ]
  },
  {
   "cell_type": "markdown",
   "metadata": {},
   "source": [
    "Alternatively it is possible to open resources simply by specifying the instrument (see the [PyVISA documentation](https://pyvisa.readthedocs.io/en/master/names.html) for the syntax for resource names). The following code opens the same device on serial port 1"
   ]
  },
  {
   "cell_type": "code",
   "execution_count": 7,
   "metadata": {},
   "outputs": [],
   "source": [
    "inst2 = rm.open_resource(\"ASRL1::INSTR\",read_termination = '\\n', write_termination=\"\\r\\n\")"
   ]
  },
  {
   "cell_type": "code",
   "execution_count": 8,
   "metadata": {},
   "outputs": [
    {
     "data": {
      "text/plain": [
       "'LSG Serial #1234'"
      ]
     },
     "execution_count": 8,
     "metadata": {},
     "output_type": "execute_result"
    }
   ],
   "source": [
    "inst2.query(\"?IDN\")"
   ]
  },
  {
   "cell_type": "markdown",
   "metadata": {},
   "source": [
    "This is a dummy instrument that is created by default by pyvisa-sim. \n",
    "\n",
    "The following opens up a simulated Thorlabs PM100 optical USB powermeter."
   ]
  },
  {
   "cell_type": "code",
   "execution_count": 5,
   "metadata": {},
   "outputs": [],
   "source": [
    "inst = rm.open_resource(\"USB0::0x1111::0x2222::0x1234::0::INSTR\", read_termination=\"\\n\", write_termination=\"\\n\")"
   ]
  },
  {
   "cell_type": "markdown",
   "metadata": {},
   "source": [
    "## How to read and write to instruments\n",
    "\n",
    "PyVISA resources provide three basic methods for writing and reading (as well as some more advanced methods to be covered in the later examples).\n",
    "* `inst.write()` is for sending a command to an instrument (e.g. a setting)\n",
    "* `inst.read()` is to read a value from the instrument (e.g. a measurement)\n",
    "* `inst.query()` is a convenient combination of write and read (e.g. to ask for a value and read the value).\n",
    "\n",
    "The following example uses the SCPI command to ask the connected powermeter for its identifier string. Once using `write` and `read` and once using `query`"
   ]
  },
  {
   "cell_type": "code",
   "execution_count": 6,
   "metadata": {},
   "outputs": [
    {
     "name": "stdout",
     "output_type": "stream",
     "text": [
      "THORLABS,100,123,0.0.0\n",
      "THORLABS,100,123,0.0.0\n"
     ]
    }
   ],
   "source": [
    "inst.write(\"*IDN?\")\n",
    "id1 = inst.read()\n",
    "id2 = inst.query(\"*IDN?\")\n",
    "print(id1)\n",
    "print(id2)"
   ]
  },
  {
   "cell_type": "markdown",
   "metadata": {},
   "source": [
    "## Configuration of communication parameters\n",
    "\n",
    "Sometimes it is necessary to configure the communication with certain instruments. Two of the most common parameters are:\n",
    "* timeout -- the time in ms to wait for a response\n",
    "* termination character -- the character used for indicating the end of a message\n",
    "\n",
    "These parameters can either be set when opening a resource or by assigning to the attribute"
   ]
  },
  {
   "cell_type": "code",
   "execution_count": 13,
   "metadata": {},
   "outputs": [],
   "source": [
    "inst3 = rm.open_resource(l[0], timeout=1000, read_termination='\\r')\n",
    "inst3.timeout = 2000"
   ]
  },
  {
   "cell_type": "markdown",
   "metadata": {},
   "source": [
    "### Return Values\n",
    "\n",
    "It's important to note that PyVISA by default does not take care of converting your return values into e.g. numpy arrays for you. Most instruments return values in ASCII format, so conversion is typically straight forward. "
   ]
  },
  {
   "cell_type": "code",
   "execution_count": 7,
   "metadata": {},
   "outputs": [
    {
     "name": "stdout",
     "output_type": "stream",
     "text": [
      "1.000000e-03\n",
      "<class 'str'>\n",
      "0.001\n"
     ]
    }
   ],
   "source": [
    "# code would look something like this\n",
    "ret = inst.query(\"FETCH?\")\n",
    "print(ret)\n",
    "print(type(ret))\n",
    "x = float(ret)\n",
    "print(x)"
   ]
  },
  {
   "cell_type": "markdown",
   "metadata": {},
   "source": [
    "#### Convenience functions\n",
    "\n",
    "If your instrument returns a list of numbers like a OSA trace measurement. Pyvisa offers some convenience functions which can do the conversion automatically for you. For ASCII values `instrument.query_ascii_values` returns a list of values (in ascii format). "
   ]
  },
  {
   "cell_type": "code",
   "execution_count": 14,
   "metadata": {},
   "outputs": [
    {
     "name": "stdout",
     "output_type": "stream",
     "text": [
      "<class 'str'>\n",
      "[1.0, 2.0, 3.0, 4.0]\n",
      "<class 'list'>\n",
      "<class 'float'>\n"
     ]
    }
   ],
   "source": [
    "inst2 = rm.open_resource(\"TCPIP0::localhost:3333::inst0::INSTR\", read_termination=\"\\n\", write_termination=\"\\n\")\n",
    "values = inst2.query_ascii_values(\"MEAS?\")\n",
    "val1 = inst2.query(\"MEAS?\")\n",
    "print(type(val1))\n",
    "print(values)\n",
    "print(type(values))\n",
    "print(type(values[0]))\n",
    "varray = np.array(values) # converts the values into an array"
   ]
  },
  {
   "cell_type": "markdown",
   "metadata": {},
   "source": [
    "If you get a large amount of data you might want to avoid the intermediate list by using the `container` keyword argument."
   ]
  },
  {
   "cell_type": "code",
   "execution_count": 24,
   "metadata": {},
   "outputs": [
    {
     "name": "stdout",
     "output_type": "stream",
     "text": [
      "[1. 2. 3. 4.]\n",
      "<class 'numpy.ndarray'>\n"
     ]
    }
   ],
   "source": [
    "varray =  inst2.query_ascii_values(\"MEAS?\", container=np.array)\n",
    "print(varray)\n",
    "print(type(varray))"
   ]
  },
  {
   "cell_type": "markdown",
   "metadata": {},
   "source": [
    "There are also other the `converter` and `separator` arguments which allow more flexible conversions. See the [pyvisa documentation](https://pyvisa.readthedocs.io/en/master/rvalues.html) for details."
   ]
  },
  {
   "cell_type": "markdown",
   "metadata": {},
   "source": [
    "## Binary transfer\n",
    "\n",
    "Most instruments can transfer data in two formats ASCII and binary. There are advantages and disadvantages to both.\n",
    "\n",
    "ASCII: human readable, easy to debug, but transfer is much slower\n",
    "\n",
    "Binary: much faster transfers, more difficult to debug because not easily readable\n",
    "\n",
    "**Tip:** We found that a good approach is to use ASCII transfer for most cases (in particular when writing new instruments) and only switch to binary format for instruments that transfer a lot of data, like oscilloscopes, spectrum analysers ...\n",
    "\n",
    "PyVISA does also provide functions to easy conversions from binary formats. The naming convention follows the same as the [struct module](https://docs.python.org/3/library/struct.html#format-characters)."
   ]
  },
  {
   "cell_type": "code",
   "execution_count": null,
   "metadata": {},
   "outputs": [],
   "source": [
    "values = inst.query_binary_values('CURV?', datatype='d', is_big_endian=True) # this code does not work here"
   ]
  },
  {
   "cell_type": "markdown",
   "metadata": {},
   "source": [
    "PyVISA assumes by default that your instrument follows `IEEE` conventions, but you can pass different header formats with the `header_fmt` parameter. \n",
    "\n",
    "**Important** Not all instruments add a termination character when sending binary data, which results in errors or truncated blocks because PyVISA expects a termination character by default. Please see the [documentation](https://pyvisa.readthedocs.io/en/latest/introduction/rvalues.html#reading-binary-values) when it is save to pass the `expect_termination=False` parameter."
   ]
  },
  {
   "cell_type": "markdown",
   "metadata": {},
   "source": [
    "## Further Reading\n",
    "\n",
    "* [PyVISA documentation](https://pyvisa.readthedocs.io/)"
   ]
  },
  {
   "cell_type": "markdown",
   "metadata": {},
   "source": [
    "## Exercises\n",
    "\n",
    "* Download the thorlabs.yml file and use it as a simulated backend\n",
    "* try setting the averaging of the powermeter (look at the manual at https://www.thorlabs.com/thorproduct.cfm?partnumber=PM100USB)\n",
    "* try to change the measurement (and check that it works)"
   ]
  },
  {
   "cell_type": "code",
   "execution_count": null,
   "metadata": {},
   "outputs": [],
   "source": []
  }
 ],
 "metadata": {
  "kernelspec": {
   "display_name": "Python 3",
   "language": "python",
   "name": "python3"
  },
  "language_info": {
   "codemirror_mode": {
    "name": "ipython",
    "version": 3
   },
   "file_extension": ".py",
   "mimetype": "text/x-python",
   "name": "python",
   "nbconvert_exporter": "python",
   "pygments_lexer": "ipython3",
   "version": "3.8.10"
  },
  "latex_envs": {
   "LaTeX_envs_menu_present": true,
   "autoclose": false,
   "autocomplete": true,
   "bibliofile": "biblio.bib",
   "cite_by": "apalike",
   "current_citInitial": 1,
   "eqLabelWithNumbers": true,
   "eqNumInitial": 1,
   "hotkeys": {
    "equation": "Ctrl-E",
    "itemize": "Ctrl-I"
   },
   "labels_anchors": false,
   "latex_user_defs": false,
   "report_style_numbering": false,
   "user_envs_cfg": false
  }
 },
 "nbformat": 4,
 "nbformat_minor": 2
}
