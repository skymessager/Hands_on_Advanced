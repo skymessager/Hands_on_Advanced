{
 "cells": [
  {
   "cell_type": "markdown",
   "metadata": {},
   "source": [
    "## GUI\n",
    "* Graphic User Interface (GUI) is an efficient tool for lab automation, it can help engineers save time, generate straight-forward data visualization and provide centralized control system.\n",
    "* Jupyter notebook ipywidgets is a good candidate for GUI in jupyter notebook. There are other tools available (such as bokeh server).\n",
    "* What are widgets? Eventful python objects that can have a representation in the browser, often as a control like a slider, textbox, etc."
   ]
  },
  {
   "cell_type": "markdown",
   "metadata": {},
   "source": [
    "## Learning Outcomes\n",
    "* Understand intactive ipywdigets features\n",
    "* Ipywidgets list\n",
    "* Build a simple GUI based on ipywidgets\n",
    "* Asynchronous widgets with threading"
   ]
  },
  {
   "cell_type": "markdown",
   "metadata": {},
   "source": [
    "## Requirements\n",
    "* Confirm you have ipywidgets installed by checking 'pip list' in command window. \n",
    "* If not, please try 'conda install -c conda-forge ipywidgets' in command window."
   ]
  },
  {
   "cell_type": "markdown",
   "metadata": {},
   "source": [
    "## Interactive ipywidgets\n",
    "* 'interact' function automatically creates user interface controls for exploring code and data interactivelly.\n",
    "* General conecept:\n",
    "    - define a function\n",
    "    - link the function and ipywidgets with 'interact' function and function parameters"
   ]
  },
  {
   "cell_type": "code",
   "execution_count": 1,
   "metadata": {},
   "outputs": [
    {
     "data": {
      "application/vnd.jupyter.widget-view+json": {
       "model_id": "32c9e8e7b2bc454d88b94f3e74bd9c85",
       "version_major": 2,
       "version_minor": 0
      },
      "text/plain": [
       "interactive(children=(IntSlider(value=10, description='x', max=30, min=-10), Output()), _dom_classes=('widget-…"
      ]
     },
     "metadata": {},
     "output_type": "display_data"
    },
    {
     "data": {
      "text/plain": [
       "<function __main__.f(x)>"
      ]
     },
     "execution_count": 1,
     "metadata": {},
     "output_type": "execute_result"
    }
   ],
   "source": [
    "## load necessary libraries\n",
    "from __future__ import print_function\n",
    "from ipywidgets import interact, interactive, fixed, interact_manual\n",
    "import ipywidgets as widgets\n",
    "\n",
    "\n",
    "## define a function of interest\n",
    "def f(x):\n",
    "    return x**2.\n",
    "\n",
    "## define an interaction with a slider\n",
    "interact(f,x = 10)"
   ]
  },
  {
   "cell_type": "code",
   "execution_count": 2,
   "metadata": {},
   "outputs": [
    {
     "data": {
      "application/vnd.jupyter.widget-view+json": {
       "model_id": "47ff84231a9e4d358272ca4cf90e6089",
       "version_major": 2,
       "version_minor": 0
      },
      "text/plain": [
       "interactive(children=(IntSlider(value=10, description='x', max=30, min=-10), Output()), _dom_classes=('widget-…"
      ]
     },
     "metadata": {},
     "output_type": "display_data"
    },
    {
     "data": {
      "text/plain": [
       "<function __main__.f(x)>"
      ]
     },
     "execution_count": 2,
     "metadata": {},
     "output_type": "execute_result"
    }
   ],
   "source": [
    "## previous example is simple, but without much explanation. \n",
    "## We will show another example here to give you a better idea about interact function.\n",
    "\n",
    "interact(f,x = widgets.IntSlider(min = -10, max = 30, step = 1, value = 10))"
   ]
  },
  {
   "cell_type": "code",
   "execution_count": 3,
   "metadata": {},
   "outputs": [
    {
     "data": {
      "application/vnd.jupyter.widget-view+json": {
       "model_id": "075424d7bc9d41dea21848edb941af7b",
       "version_major": 2,
       "version_minor": 0
      },
      "text/plain": [
       "interactive(children=(Dropdown(description='x', options=('Apple', 'Orange', 'Strawberry'), value='Apple'), Out…"
      ]
     },
     "metadata": {},
     "output_type": "display_data"
    },
    {
     "data": {
      "text/plain": [
       "<function __main__.f_show(x)>"
      ]
     },
     "execution_count": 3,
     "metadata": {},
     "output_type": "execute_result"
    }
   ],
   "source": [
    "## more examples\n",
    "def f_show(x):\n",
    "    print(x)\n",
    "    \n",
    "interact(f_show,x = ['Apple','Orange','Strawberry'])"
   ]
  },
  {
   "cell_type": "code",
   "execution_count": 4,
   "metadata": {
    "scrolled": false
   },
   "outputs": [
    {
     "name": "stdout",
     "output_type": "stream",
     "text": [
      "Help on _InteractFactory in module ipywidgets.widgets.interaction object:\n",
      "\n",
      "class _InteractFactory(builtins.object)\n",
      " |  _InteractFactory(cls, options, kwargs={})\n",
      " |  \n",
      " |  Factory for instances of :class:`interactive`.\n",
      " |  \n",
      " |  This class is needed to support options like::\n",
      " |  \n",
      " |      >>> @interact.options(manual=True)\n",
      " |      ... def greeting(text=\"World\"):\n",
      " |      ...     print(\"Hello {}\".format(text))\n",
      " |  \n",
      " |  Parameters\n",
      " |  ----------\n",
      " |  cls : class\n",
      " |      The subclass of :class:`interactive` to construct.\n",
      " |  options : dict\n",
      " |      A dict of options used to construct the interactive\n",
      " |      function. By default, this is returned by\n",
      " |      ``cls.default_options()``.\n",
      " |  kwargs : dict\n",
      " |      A dict of **kwargs to use for widgets.\n",
      " |  \n",
      " |  Methods defined here:\n",
      " |  \n",
      " |  __call__(self, _InteractFactory__interact_f=None, **kwargs)\n",
      " |      Make the given function interactive by adding and displaying\n",
      " |      the corresponding :class:`interactive` widget.\n",
      " |      \n",
      " |      Expects the first argument to be a function. Parameters to this\n",
      " |      function are widget abbreviations passed in as keyword arguments\n",
      " |      (``**kwargs``). Can be used as a decorator (see examples).\n",
      " |      \n",
      " |      Returns\n",
      " |      -------\n",
      " |      f : __interact_f with interactive widget attached to it.\n",
      " |      \n",
      " |      Parameters\n",
      " |      ----------\n",
      " |      __interact_f : function\n",
      " |          The function to which the interactive widgets are tied. The `**kwargs`\n",
      " |          should match the function signature. Passed to :func:`interactive()`\n",
      " |      **kwargs : various, optional\n",
      " |          An interactive widget is created for each keyword argument that is a\n",
      " |          valid widget abbreviation. Passed to :func:`interactive()`\n",
      " |      \n",
      " |      Examples\n",
      " |      --------\n",
      " |      Render an interactive text field that shows the greeting with the passed in\n",
      " |      text::\n",
      " |      \n",
      " |          # 1. Using interact as a function\n",
      " |          def greeting(text=\"World\"):\n",
      " |              print(\"Hello {}\".format(text))\n",
      " |          interact(greeting, text=\"IPython Widgets\")\n",
      " |      \n",
      " |          # 2. Using interact as a decorator\n",
      " |          @interact\n",
      " |          def greeting(text=\"World\"):\n",
      " |              print(\"Hello {}\".format(text))\n",
      " |      \n",
      " |          # 3. Using interact as a decorator with named parameters\n",
      " |          @interact(text=\"IPython Widgets\")\n",
      " |          def greeting(text=\"World\"):\n",
      " |              print(\"Hello {}\".format(text))\n",
      " |      \n",
      " |      Render an interactive slider widget and prints square of number::\n",
      " |      \n",
      " |          # 1. Using interact as a function\n",
      " |          def square(num=1):\n",
      " |              print(\"{} squared is {}\".format(num, num*num))\n",
      " |          interact(square, num=5)\n",
      " |      \n",
      " |          # 2. Using interact as a decorator\n",
      " |          @interact\n",
      " |          def square(num=2):\n",
      " |              print(\"{} squared is {}\".format(num, num*num))\n",
      " |      \n",
      " |          # 3. Using interact as a decorator with named parameters\n",
      " |          @interact(num=5)\n",
      " |          def square(num=2):\n",
      " |              print(\"{} squared is {}\".format(num, num*num))\n",
      " |  \n",
      " |  __init__(self, cls, options, kwargs={})\n",
      " |      Initialize self.  See help(type(self)) for accurate signature.\n",
      " |  \n",
      " |  options(self, **kwds)\n",
      " |      Change options for interactive functions.\n",
      " |      \n",
      " |      Returns\n",
      " |      -------\n",
      " |      A new :class:`_InteractFactory` which will apply the\n",
      " |      options when called.\n",
      " |  \n",
      " |  widget(self, f)\n",
      " |      Return an interactive function widget for the given function.\n",
      " |      \n",
      " |      The widget is only constructed, not displayed nor attached to\n",
      " |      the function.\n",
      " |      \n",
      " |      Returns\n",
      " |      -------\n",
      " |      An instance of ``self.cls`` (typically :class:`interactive`).\n",
      " |      \n",
      " |      Parameters\n",
      " |      ----------\n",
      " |      f : function\n",
      " |          The function to which the interactive widgets are tied.\n",
      " |  \n",
      " |  ----------------------------------------------------------------------\n",
      " |  Data descriptors defined here:\n",
      " |  \n",
      " |  __dict__\n",
      " |      dictionary for instance variables (if defined)\n",
      " |  \n",
      " |  __weakref__\n",
      " |      list of weak references to the object (if defined)\n",
      "\n"
     ]
    }
   ],
   "source": [
    "help(interact)"
   ]
  },
  {
   "cell_type": "markdown",
   "metadata": {},
   "source": [
    "## ipywidget list\n",
    "* There are many ipywidgets\n",
    "* We list 5 frequent used ones here."
   ]
  },
  {
   "cell_type": "code",
   "execution_count": 5,
   "metadata": {},
   "outputs": [
    {
     "data": {
      "application/vnd.jupyter.widget-view+json": {
       "model_id": "d3e3ed8c51be4b5f8ac71fbd9c490ca7",
       "version_major": 2,
       "version_minor": 0
      },
      "text/plain": [
       "Button(button_style='success', description='button', style=ButtonStyle(), tooltip='button')"
      ]
     },
     "metadata": {},
     "output_type": "display_data"
    }
   ],
   "source": [
    "widgets.Button(\n",
    "    description='button',\n",
    "    disabled=False,\n",
    "    button_style='success', # 'success', 'info', 'warning', 'danger' or ''\n",
    "    tooltip='button',\n",
    "    icon=''\n",
    ")"
   ]
  },
  {
   "cell_type": "code",
   "execution_count": 6,
   "metadata": {},
   "outputs": [
    {
     "data": {
      "application/vnd.jupyter.widget-view+json": {
       "model_id": "eff7eab57c3647e4b56da64258f57082",
       "version_major": 2,
       "version_minor": 0
      },
      "text/plain": [
       "Text(value='Text', description='Text Area:', placeholder='Type...')"
      ]
     },
     "metadata": {},
     "output_type": "display_data"
    }
   ],
   "source": [
    "widgets.Text(\n",
    "    value='Text',\n",
    "    placeholder='Type...',\n",
    "    description='Text Area:',\n",
    "    disabled=False\n",
    ")"
   ]
  },
  {
   "cell_type": "code",
   "execution_count": 7,
   "metadata": {},
   "outputs": [
    {
     "data": {
      "application/vnd.jupyter.widget-view+json": {
       "model_id": "7415973538c3433690bccb93207e34d4",
       "version_major": 2,
       "version_minor": 0
      },
      "text/plain": [
       "FloatSlider(value=1.0, continuous_update=False, description='Float Slider:', max=10.0, readout_format='.1f')"
      ]
     },
     "metadata": {},
     "output_type": "display_data"
    }
   ],
   "source": [
    "widgets.FloatSlider(\n",
    "    value=1.,\n",
    "    min=0,\n",
    "    max=10.0,\n",
    "    step=0.1,\n",
    "    description='Float Slider:',\n",
    "    disabled=False,\n",
    "    continuous_update=False,\n",
    "    orientation='horizontal',\n",
    "    readout=True,\n",
    "    readout_format='.1f',\n",
    ")"
   ]
  },
  {
   "cell_type": "code",
   "execution_count": 8,
   "metadata": {},
   "outputs": [
    {
     "data": {
      "application/vnd.jupyter.widget-view+json": {
       "model_id": "0fd790767033451c85dbdb280bb1d894",
       "version_major": 2,
       "version_minor": 0
      },
      "text/plain": [
       "Checkbox(value=False, description='Check Box')"
      ]
     },
     "metadata": {},
     "output_type": "display_data"
    }
   ],
   "source": [
    "widgets.Checkbox(\n",
    "    value=False,\n",
    "    description='Check Box',\n",
    "    disabled=False\n",
    ")"
   ]
  },
  {
   "cell_type": "code",
   "execution_count": 9,
   "metadata": {},
   "outputs": [
    {
     "data": {
      "application/vnd.jupyter.widget-view+json": {
       "model_id": "60333c111b18401dbccce78664bb59ae",
       "version_major": 2,
       "version_minor": 0
      },
      "text/plain": [
       "RadioButtons(description='Best movie?:', index=1, options=('Ant Man', 'Venom', 'Spider Man'), value='Venom')"
      ]
     },
     "metadata": {},
     "output_type": "display_data"
    }
   ],
   "source": [
    "widgets.RadioButtons(\n",
    "    options=['Ant Man', 'Venom', 'Spider Man'],\n",
    "    value='Venom',\n",
    "    description='Best movie?:',\n",
    "    disabled=False\n",
    ")"
   ]
  },
  {
   "cell_type": "markdown",
   "metadata": {},
   "source": [
    "## Build a simple GUI based on ipywidgets\n",
    "* float slider for changing the parameters\n",
    "* dropdown menu for selecting curve equations\n",
    "* plot in output widgets"
   ]
  },
  {
   "cell_type": "code",
   "execution_count": 10,
   "metadata": {},
   "outputs": [
    {
     "data": {
      "application/vnd.jupyter.widget-view+json": {
       "model_id": "96a9eeec12f04c78a725de3a35dd121e",
       "version_major": 2,
       "version_minor": 0
      },
      "text/plain": [
       "VBox(children=(HBox(children=(FloatSlider(value=0.2, continuous_update=False, description='beta', max=1.0, min…"
      ]
     },
     "metadata": {},
     "output_type": "display_data"
    }
   ],
   "source": [
    "from IPython.display import display,clear_output\n",
    "import numpy as np\n",
    "from matplotlib.pyplot import *\n",
    "\n",
    "### functions\n",
    "def linear_func(beta):\n",
    "    x = np.arange(0,100)\n",
    "    y = beta*x+10.\n",
    "    return x,y\n",
    "\n",
    "def quad_func(beta):\n",
    "    x = np.arange(0,100)\n",
    "    y = beta*x**2.+10.\n",
    "    return x,y\n",
    "\n",
    "def exp_func(beta):\n",
    "    x = np.arange(0,100)\n",
    "    y = np.exp(beta*x)+10.\n",
    "    return x,y\n",
    "\n",
    "\n",
    "\n",
    "### widgets\n",
    "beta_slider = widgets.FloatSlider(value = 0.2,\n",
    "                                  min = 0.01,\n",
    "                                  max = 1.,\n",
    "                                  step = 0.01,\n",
    "                                  description = 'beta',\n",
    "                                  continuous_update=False,\n",
    "                                  readout_format = '.2f')\n",
    "\n",
    "dropdown_menu = widgets.Dropdown(options = ['linear','quadratic polynomial','exponential'],\n",
    "                                 value = 'linear')\n",
    "\n",
    "update_button = widgets.Button(description='Update',\n",
    "                               disabled=False,\n",
    "                               button_style='success', # 'success', 'info', 'warning', 'danger' or ''\n",
    "                               tooltip='button',\n",
    "                               icon='')\n",
    "\n",
    "out_plot = widgets.Output()\n",
    "\n",
    "### layout\n",
    "Hbox_options = widgets.HBox([beta_slider,\n",
    "                             dropdown_menu,\n",
    "                             update_button])\n",
    "\n",
    "Vbox = widgets.VBox([Hbox_options,\n",
    "                     out_plot])\n",
    "\n",
    "\n",
    "### link function with widgets\n",
    "def update_button_clicked(b):\n",
    "    if dropdown_menu.value == 'linear':\n",
    "        x,y = linear_func(beta_slider.value)\n",
    "    elif dropdown_menu.value == 'quadratic polynomial':\n",
    "        x,y = quad_func(beta_slider.value)\n",
    "    elif dropdown_menu.value == 'exponential':\n",
    "        x,y = exp_func(beta_slider.value)\n",
    "    \n",
    "    with out_plot:\n",
    "         clear_output(wait = True)\n",
    "         plot(x,y)\n",
    "         xlabel('x-axis')\n",
    "         ylabel('y-axis')\n",
    "         grid()\n",
    "         xlim(0,100)\n",
    "         ylim(0,1000)\n",
    "         show()\n",
    "\n",
    "update_button.on_click(update_button_clicked)\n",
    "\n",
    "display(Vbox)\n",
    "\n"
   ]
  },
  {
   "cell_type": "markdown",
   "metadata": {},
   "source": [
    "## Asynchronous widgets with threading\n",
    "* Sometimes we need widgets run in the background, this is where asynchronous widgets kick in.\n",
    "* We handle this type of requirement with threads.\n",
    "* In this example, we will have a progress bar keep updating in the background, and we can change the current position of the progress bar based on current kernel request."
   ]
  },
  {
   "cell_type": "code",
   "execution_count": 11,
   "metadata": {},
   "outputs": [
    {
     "data": {
      "application/vnd.jupyter.widget-view+json": {
       "model_id": "0caa55b6e434472390b74b60c9ecafd6",
       "version_major": 2,
       "version_minor": 0
      },
      "text/plain": [
       "FloatProgress(value=0.0, max=1.0)"
      ]
     },
     "metadata": {},
     "output_type": "display_data"
    },
    {
     "data": {
      "application/vnd.jupyter.widget-view+json": {
       "model_id": "92c353920fde4ecab8a6bd75af6c418b",
       "version_major": 2,
       "version_minor": 0
      },
      "text/plain": [
       "FloatSlider(value=0.0, continuous_update=False, description='update this:', max=30.0, step=1.0)"
      ]
     },
     "metadata": {},
     "output_type": "display_data"
    },
    {
     "data": {
      "application/vnd.jupyter.widget-view+json": {
       "model_id": "2b82ceddce1442d6a9ee743f19392e5c",
       "version_major": 2,
       "version_minor": 0
      },
      "text/plain": [
       "Checkbox(value=False, description='Running')"
      ]
     },
     "metadata": {},
     "output_type": "display_data"
    },
    {
     "name": "stdout",
     "output_type": "stream",
     "text": [
      "14.0\n",
      "7.0\n",
      "17.0\n"
     ]
    }
   ],
   "source": [
    "import threading\n",
    "from IPython.display import display\n",
    "import ipywidgets as widgets\n",
    "import time\n",
    "\n",
    "progress = widgets.FloatProgress(value=0.0, min=0.0, max=1.0)\n",
    "input_slider = widgets.FloatSlider(value = 0, \n",
    "                                   min = 0, \n",
    "                                   max = 30, \n",
    "                                   step = 1,\n",
    "                                   description = 'update this:',\n",
    "                                   continuous_update = False)\n",
    "\n",
    "status_checkbox = widgets.Checkbox(value = False,\n",
    "                                   description = 'Running',\n",
    "                                   disabled = False)\n",
    "\n",
    "i = []\n",
    "i.append(0)\n",
    "\n",
    "\n",
    "def work(i,progress,status_checkbox):\n",
    "    k = 0\n",
    "    while True:\n",
    "        if status_checkbox.value:\n",
    "            m = np.mod(i[0]+k,100)\n",
    "            time.sleep(2.)\n",
    "            progress.value = float(m+1)/100.\n",
    "            k += 1\n",
    "            \n",
    "thread = threading.Thread(target=work, args=(i,progress,status_checkbox))\n",
    "display(progress)\n",
    "thread.start()\n",
    "\n",
    "def slider_change(change):\n",
    "    i[0] = input_slider.value\n",
    "    print(i[0])\n",
    "    \n",
    "\n",
    "input_slider.observe(slider_change,names = 'value')\n",
    "display(input_slider)\n",
    "display(status_checkbox)\n"
   ]
  },
  {
   "cell_type": "code",
   "execution_count": null,
   "metadata": {},
   "outputs": [],
   "source": []
  }
 ],
 "metadata": {
  "kernelspec": {
   "display_name": "Python 3",
   "language": "python",
   "name": "python3"
  },
  "language_info": {
   "codemirror_mode": {
    "name": "ipython",
    "version": 3
   },
   "file_extension": ".py",
   "mimetype": "text/x-python",
   "name": "python",
   "nbconvert_exporter": "python",
   "pygments_lexer": "ipython3",
   "version": "3.7.4"
  }
 },
 "nbformat": 4,
 "nbformat_minor": 2
}
