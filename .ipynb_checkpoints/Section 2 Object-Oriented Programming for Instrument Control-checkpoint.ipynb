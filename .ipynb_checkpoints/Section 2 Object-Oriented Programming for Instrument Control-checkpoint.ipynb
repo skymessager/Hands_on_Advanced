{
 "cells": [
  {
   "cell_type": "markdown",
   "metadata": {},
   "source": [
    "# Object-Oriented Programming for Instrument Control\n",
    "\n",
    "We have now tested out how to use pyvisa to control the EXFO OSA, laser and powermeter. However, a big script like in the previous section is not really sustainable if you want to reuse your instrument control. So let us look at how to make a reusable library for these instruments and how to use them together. \n",
    "\n",
    "For this section we will use object-oriented programming, which is ideal for writing controls for lab instruments."
   ]
  },
  {
   "cell_type": "markdown",
   "metadata": {},
   "source": [
    "## What is Object-Oriented Programming\n",
    "\n",
    "from wikipedia:\n",
    "> Object-oriented programming (OOP) is a programming paradigm based on the concept of \"objects\", which may contain data, in the form of fields, often known as attributes; and code, in the form of procedures, often known as methods. A feature of objects is that an object's procedures can access and often modify the data fields of the object with which they are associated (objects have a notion of \"this\" or \"self\"). In OOP, computer programs are designed by making them out of objects that interact with one another\n",
    "\n",
    "In other words OOP is about creating object with certain characteristics and methods that can be used to access and control the behaviour of these objects. This also explains why it lends itself to instrument-control, the instruments are actually \"real\" objects that we are controlling.\n",
    "\n",
    "Python is very well suited for OOP, because while it can be used for programming in many different ways, it was designed with OOP in mind and many concepts in Python are based on OOP."
   ]
  },
  {
   "cell_type": "markdown",
   "metadata": {},
   "source": [
    "## Learning Outcomes\n",
    "\n",
    "* basic understanding of object-oriented programming\n",
    "* how to build lab instruments using object-oriented programming\n",
    "* how to put several instruments together \n",
    "\n",
    "\n",
    "### Things we don't cover\n",
    "\n",
    "Some of the following concepts make OOP very powerful. We will not cover them today, but we highly recommend you read up on them!\n",
    "* inheritance\n",
    "* metaprogramming\n",
    "* duck-typing\n",
    "\n",
    "**Important** While we will be using jupyter notebooks for writing the object here, generally you do not want to have your instrument control libraries in a notebook. Notebooks are great for initial experimentation, analysis and debugging, but you can not easily include (or import) the code from your notebook into other programs. Instead of copy and pasting your instruments from notebook to notebook, put them into a separate Python file that you can then import like any other Python module. "
   ]
  },
  {
   "cell_type": "markdown",
   "metadata": {},
   "source": [
    "## An EXFO OSA object\n",
    "\n",
    "\n",
    "In this section we will write an object to represent the OSA inside the LTB-8 rack. Note that we will not write a separate object for the rack itself, this might or might not be useful for your needs. We find it often more advantageous to program by kind of instrument, instead of where it is housed.\n",
    "\n",
    "Along the way we will explain some of the OOP concepts in connection to Python. Note that we will only write an interface to a selection of the OSA commands.\n"
   ]
  },
  {
   "cell_type": "code",
   "execution_count": 2,
   "metadata": {},
   "outputs": [
    {
     "name": "stdout",
     "output_type": "stream",
     "text": [
      "Populating the interactive namespace from numpy and matplotlib\n"
     ]
    }
   ],
   "source": [
    "%pylab inline"
   ]
  },
  {
   "cell_type": "code",
   "execution_count": 4,
   "metadata": {},
   "outputs": [],
   "source": [
    "class ExfoOSA(object):\n",
    "    def __init__(self, ltb_resource, slot=0, prefix=\"LINS{}\"):\n",
    "        \"\"\"\n",
    "        Initialise an EXFO OSA instrument.\n",
    "        \n",
    "        Parameters\n",
    "        ----------\n",
    "        \n",
    "        ltb_resource : visa_object\n",
    "            the visa resource of the LTB rack the OSA is housed in\n",
    "        slot : int\n",
    "            the slot the instrument is housed in.\n",
    "        \"\"\"\n",
    "        self.ltb = ltb_resource\n",
    "        self.slot = slot\n",
    "        self.prefix = prefix"
   ]
  },
  {
   "cell_type": "markdown",
   "metadata": {},
   "source": [
    "So what is happing in the above?\n",
    "\n",
    "The `class` command creates an object class (the `(object)` indicates it is a subclass of the object class). This is basically the \"blueprint\" for a type of object. For example we could have the class of humans, which could possibly have subclasses women, men, children, adults, which all have different characteristics. It is possible that objects are members of several classes. \n",
    "\n",
    "The `__init__` is a method. Methods are functions that belong to an object. The first parameter to a method is (almost) always the `self` parameter, which is the object this function belongs to. The `__init__` method is one of several *special* methods, it gets called when we first initialise an object. \n",
    "\n",
    "Inside the `__init__` method we add three attributes to the object\n",
    "\n",
    "Let's create the object:"
   ]
  },
  {
   "cell_type": "code",
   "execution_count": null,
   "metadata": {},
   "outputs": [],
   "source": [
    "import visa\n",
    "rm = visa.ResourceManager() # we need a resource manager\n",
    "LTB = rm.open_resource(\"TCPIP0::10.221.1.9::5025::SOCKET\") # the LTB rack\n",
    "LTB.read_termination = '\\n'"
   ]
  },
  {
   "cell_type": "code",
   "execution_count": 5,
   "metadata": {},
   "outputs": [
    {
     "ename": "NameError",
     "evalue": "name 'LTB' is not defined",
     "output_type": "error",
     "traceback": [
      "\u001b[0;31m---------------------------------------------------------------------------\u001b[0m",
      "\u001b[0;31mNameError\u001b[0m                                 Traceback (most recent call last)",
      "\u001b[0;32m<ipython-input-5-b85e7cdde09d>\u001b[0m in \u001b[0;36m<module>\u001b[0;34m()\u001b[0m\n\u001b[0;32m----> 1\u001b[0;31m \u001b[0mosa\u001b[0m \u001b[0;34m=\u001b[0m \u001b[0mExfoOSA\u001b[0m\u001b[0;34m(\u001b[0m\u001b[0mLTB\u001b[0m\u001b[0;34m,\u001b[0m \u001b[0mslot\u001b[0m\u001b[0;34m=\u001b[0m\u001b[0;36m4\u001b[0m\u001b[0;34m)\u001b[0m \u001b[0;31m# the OSA is in slot 4\u001b[0m\u001b[0;34m\u001b[0m\u001b[0;34m\u001b[0m\u001b[0m\n\u001b[0m\u001b[1;32m      2\u001b[0m \u001b[0;31m# lets look at the attributes\u001b[0m\u001b[0;34m\u001b[0m\u001b[0;34m\u001b[0m\u001b[0;34m\u001b[0m\u001b[0m\n\u001b[1;32m      3\u001b[0m \u001b[0mprint\u001b[0m\u001b[0;34m(\u001b[0m\u001b[0mosa\u001b[0m\u001b[0;34m.\u001b[0m\u001b[0mslot\u001b[0m\u001b[0;34m)\u001b[0m\u001b[0;34m\u001b[0m\u001b[0;34m\u001b[0m\u001b[0m\n",
      "\u001b[0;31mNameError\u001b[0m: name 'LTB' is not defined"
     ]
    }
   ],
   "source": [
    "osa = ExfoOSA(LTB, slot=4) # create the instrument instance, the OSA is in slot 4\n",
    "# lets look at the attributes\n",
    "print(osa.slot)"
   ]
  },
  {
   "cell_type": "markdown",
   "metadata": {},
   "source": [
    "So far the instrument does not do anything so let us add some functionality to the instrument"
   ]
  },
  {
   "cell_type": "code",
   "execution_count": 6,
   "metadata": {},
   "outputs": [],
   "source": [
    "class ExfoOSA(object):\n",
    "    def __init__(self, ltb_resource, slot=0, prefix=\"LINS{}\"):\n",
    "        \"\"\"\n",
    "        Initialise an EXFO OSA instrument.\n",
    "        \n",
    "        Parameters\n",
    "        ----------\n",
    "        \n",
    "        ltb_resource : visa_object\n",
    "            the visa resource of the LTB rack the OSA is housed in\n",
    "        slot : int\n",
    "            the slot the instrument is housed in.\n",
    "        \"\"\"\n",
    "        self.ltb = ltb_resource\n",
    "        self.slot = slot\n",
    "        self.prefix = prefix\n",
    "    \n",
    "    def idn(self):\n",
    "        \"\"\"\n",
    "        Return Instrument ID\n",
    "        \"\"\"\n",
    "        return self.ltb.query(prefix.format(self.slot) + \":IDN?\")"
   ]
  },
  {
   "cell_type": "code",
   "execution_count": 7,
   "metadata": {},
   "outputs": [
    {
     "ename": "NameError",
     "evalue": "name 'LTB' is not defined",
     "output_type": "error",
     "traceback": [
      "\u001b[0;31m---------------------------------------------------------------------------\u001b[0m",
      "\u001b[0;31mNameError\u001b[0m                                 Traceback (most recent call last)",
      "\u001b[0;32m<ipython-input-7-48f6832dbfc5>\u001b[0m in \u001b[0;36m<module>\u001b[0;34m()\u001b[0m\n\u001b[0;32m----> 1\u001b[0;31m \u001b[0mosa\u001b[0m \u001b[0;34m=\u001b[0m  \u001b[0mExfoOSA\u001b[0m\u001b[0;34m(\u001b[0m\u001b[0mLTB\u001b[0m\u001b[0;34m,\u001b[0m \u001b[0mslot\u001b[0m\u001b[0;34m=\u001b[0m\u001b[0;36m4\u001b[0m\u001b[0;34m)\u001b[0m\u001b[0;34m\u001b[0m\u001b[0;34m\u001b[0m\u001b[0m\n\u001b[0m\u001b[1;32m      2\u001b[0m \u001b[0mprint\u001b[0m\u001b[0;34m(\u001b[0m\u001b[0mosa\u001b[0m\u001b[0;34m.\u001b[0m\u001b[0midn\u001b[0m\u001b[0;34m(\u001b[0m\u001b[0;34m)\u001b[0m\u001b[0;34m)\u001b[0m\u001b[0;34m\u001b[0m\u001b[0;34m\u001b[0m\u001b[0m\n",
      "\u001b[0;31mNameError\u001b[0m: name 'LTB' is not defined"
     ]
    }
   ],
   "source": [
    "osa =  ExfoOSA(LTB, slot=4)\n",
    "print(osa.idn())"
   ]
  },
  {
   "cell_type": "markdown",
   "metadata": {},
   "source": [
    "Often it can be easier to have some methods as attributes so we don't have to use brackets all the time"
   ]
  },
  {
   "cell_type": "code",
   "execution_count": 8,
   "metadata": {},
   "outputs": [],
   "source": [
    "class ExfoOSA(object):\n",
    "    def __init__(self, ltb_resource, slot=0, prefix=\"LINS{}\"):\n",
    "        \"\"\"\n",
    "        Initialise an EXFO OSA instrument.\n",
    "        \n",
    "        Parameters\n",
    "        ----------\n",
    "        \n",
    "        ltb_resource : visa_object\n",
    "            the visa resource of the LTB rack the OSA is housed in\n",
    "        slot : int\n",
    "            the slot the instrument is housed in.\n",
    "        \"\"\"\n",
    "        self.ltb = ltb_resource\n",
    "        self.slot = slot\n",
    "        self.prefix = prefix.format(self.slot)\n",
    "    \n",
    "    @property # the property decorator makes the method into a document we talk about them later\n",
    "    def idn(self):\n",
    "        \"\"\"\n",
    "        Return Instrument ID\n",
    "        \"\"\"\n",
    "        return self.ltb.query(self.prefix + \":IDN?\")"
   ]
  },
  {
   "cell_type": "code",
   "execution_count": 9,
   "metadata": {},
   "outputs": [
    {
     "ename": "NameError",
     "evalue": "name 'LTB' is not defined",
     "output_type": "error",
     "traceback": [
      "\u001b[0;31m---------------------------------------------------------------------------\u001b[0m",
      "\u001b[0;31mNameError\u001b[0m                                 Traceback (most recent call last)",
      "\u001b[0;32m<ipython-input-9-741959ce62b6>\u001b[0m in \u001b[0;36m<module>\u001b[0;34m()\u001b[0m\n\u001b[0;32m----> 1\u001b[0;31m \u001b[0mosa\u001b[0m \u001b[0;34m=\u001b[0m  \u001b[0mExfoOSA\u001b[0m\u001b[0;34m(\u001b[0m\u001b[0mLTB\u001b[0m\u001b[0;34m,\u001b[0m \u001b[0mslot\u001b[0m\u001b[0;34m=\u001b[0m\u001b[0;36m4\u001b[0m\u001b[0;34m)\u001b[0m\u001b[0;34m\u001b[0m\u001b[0;34m\u001b[0m\u001b[0m\n\u001b[0m\u001b[1;32m      2\u001b[0m \u001b[0;31m# now we can access the ID as an attribute\u001b[0m\u001b[0;34m\u001b[0m\u001b[0;34m\u001b[0m\u001b[0;34m\u001b[0m\u001b[0m\n\u001b[1;32m      3\u001b[0m \u001b[0mprint\u001b[0m\u001b[0;34m(\u001b[0m\u001b[0mosa\u001b[0m\u001b[0;34m.\u001b[0m\u001b[0midn\u001b[0m\u001b[0;34m)\u001b[0m\u001b[0;34m\u001b[0m\u001b[0;34m\u001b[0m\u001b[0m\n",
      "\u001b[0;31mNameError\u001b[0m: name 'LTB' is not defined"
     ]
    }
   ],
   "source": [
    "osa =  ExfoOSA(LTB, slot=4)\n",
    "# now we can access the ID as an attribute\n",
    "print(osa.idn)"
   ]
  },
  {
   "cell_type": "markdown",
   "metadata": {},
   "source": [
    "We really don't want to talk to the instrument everytime we want to get the idea. Let's implement a poor man's cache."
   ]
  },
  {
   "cell_type": "code",
   "execution_count": 10,
   "metadata": {},
   "outputs": [],
   "source": [
    "class ExfoOSA(object):\n",
    "    def __init__(self, ltb_resource, slot=0, prefix=\"LINS{}\"):\n",
    "        \"\"\"\n",
    "        Initialise an EXFO OSA instrument.\n",
    "        \n",
    "        Parameters\n",
    "        ----------\n",
    "        \n",
    "        ltb_resource : visa_object\n",
    "            the visa resource of the LTB rack the OSA is housed in\n",
    "        slot : int\n",
    "            the slot the instrument is housed in.\n",
    "        \"\"\"\n",
    "        self.ltb = ltb_resource\n",
    "        self.slot = slot\n",
    "        self.prefix = prefix.format(self.slot)\n",
    "    \n",
    "    @property # the property decorator makes the method into a document we talk about them later\n",
    "    def idn(self):\n",
    "        \"\"\"\n",
    "        Return Instrument ID\n",
    "        \"\"\"\n",
    "        try:\n",
    "            self._idn\n",
    "        except AttributeError:\n",
    "            self._idn = self.ltb.query(self.prefix + \":IDN?\") # the leading _ indicates private attributes\n",
    "            return self._idn"
   ]
  },
  {
   "cell_type": "markdown",
   "metadata": {},
   "source": [
    "Let us know implement a couple of additional functions for starting a measurement and reading the results"
   ]
  },
  {
   "cell_type": "code",
   "execution_count": 17,
   "metadata": {},
   "outputs": [],
   "source": [
    "class ExfoOSA(object):\n",
    "    def __init__(self, ltb_resource, slot=0, prefix=\"LINS{}\"):\n",
    "        \"\"\"\n",
    "        Initialise an EXFO OSA instrument.\n",
    "        \n",
    "        Parameters\n",
    "        ----------\n",
    "        \n",
    "        ltb_resource : visa_object\n",
    "            the visa resource of the LTB rack the OSA is housed in\n",
    "        slot : int\n",
    "            the slot the instrument is housed in.\n",
    "        \"\"\"\n",
    "        self.ltb = ltb_resource\n",
    "        self.slot = slot\n",
    "        self.prefix = prefix.format(self.slot)\n",
    "    \n",
    "    @property # the property decorator makes the method into a document we talk about them later\n",
    "    def idn(self):\n",
    "        \"\"\"\n",
    "        Return Instrument ID\n",
    "        \"\"\"\n",
    "        try:\n",
    "            self._idn\n",
    "        except AttributeError:\n",
    "            self._idn = self.ltb.query(self.prefix + \":IDN?\") # the leading _ indicates private attributes\n",
    "            return self._idn\n",
    "        \n",
    "    def single_sweep(self):\n",
    "        \"\"\"\n",
    "        start a single sweep\n",
    "        \"\"\"\n",
    "        self.ltb.write(self.prefix + \":INIT:IMM\")\n",
    "    \n",
    "    def get_trace(self, traceno=1):\n",
    "        assert trace in [1, 2], \"Trace number has to be 1 or 2\" #this checks for correct trace numbers\n",
    "        power = self.query_ascii_values(self.prefix + \":TRAC:DATA? 'TRC{:d}'\".format(traceno), container=np.array)\n",
    "        wlstart = self.get_wl_start(traceno)\n",
    "        wlend = self.get_wl_end(traceno)\n",
    "        wl = np.linspace(wlstart, wlend, power.size)\n",
    "        return wl, power\n",
    "    \n",
    "    def get_wl_start(self, traceno=1):\n",
    "        assert trace in [1, 2], \"Trace number has to be 1 or 2\" #this checks for correct trace numbers\n",
    "        return float(LTB.query(\"LINS2:TRAC:X:START? 'TRC{:d}'\".format(traceno)))\n",
    "\n",
    "    def get_wl_end(self, traceno=1):\n",
    "        assert trace in [1, 2], \"Trace number has to be 1 or 2\" #this checks for correct trace numbers\n",
    "        return float(LTB.query(\"LINS2:TRAC:X:START? 'TRC{:d}'\".format(traceno)))"
   ]
  },
  {
   "cell_type": "markdown",
   "metadata": {},
   "source": [
    "It can often make sense to write some convenience functions around the instrument functions"
   ]
  },
  {
   "cell_type": "code",
   "execution_count": null,
   "metadata": {},
   "outputs": [],
   "source": [
    "class ExfoOSA(object):\n",
    "    def __init__(self, ltb_resource, slot=0, prefix=\"LINS{}\"):\n",
    "        \"\"\"\n",
    "        Initialise an EXFO OSA instrument.\n",
    "        \n",
    "        Parameters\n",
    "        ----------\n",
    "        \n",
    "        ltb_resource : visa_object\n",
    "            the visa resource of the LTB rack the OSA is housed in\n",
    "        slot : int\n",
    "            the slot the instrument is housed in.\n",
    "        \"\"\"\n",
    "        self.ltb = ltb_resource\n",
    "        self.slot = slot\n",
    "        self.prefix = prefix.format(self.slot)\n",
    "    \n",
    "    @property # the property decorator makes the method into a document we talk about them later\n",
    "    def idn(self):\n",
    "        \"\"\"\n",
    "        Return Instrument ID\n",
    "        \"\"\"\n",
    "        try:\n",
    "            self._idn\n",
    "        except AttributeError:\n",
    "            self._idn = self.ltb.query(self.prefix + \":IDN?\") # the leading _ indicates private attributes\n",
    "            return self._idn\n",
    "        \n",
    "    def single_sweep(self):\n",
    "        \"\"\"\n",
    "        start a single sweep\n",
    "        \"\"\"\n",
    "        self.ltb.write(self.prefix + \":INIT:IMM\")\n",
    "    \n",
    "    def get_trace(self, traceno=1):\n",
    "        assert trace in [1, 2], \"Trace number has to be 1 or 2\" #this checks for correct trace numbers\n",
    "        power = self.query_ascii_values(self.prefix + \":TRAC:DATA? 'TRC{:d}'\".format(traceno), container=np.array)\n",
    "        wlstart = self.get_wl_start(traceno)\n",
    "        wlend = self.get_wl_end(traceno)\n",
    "        wl = np.linspace(wlstart, wlend, power.size)\n",
    "        return wl, power\n",
    "    \n",
    "    def get_wl_start(self, traceno=1):\n",
    "        assert trace in [1, 2], \"Trace number has to be 1 or 2\" #this checks for correct trace numbers\n",
    "        return float(LTB.query(\"LINS2:TRAC:X:START? 'TRC{:d}'\".format(traceno)))\n",
    "\n",
    "    def get_wl_end(self, traceno=1):\n",
    "        assert trace in [1, 2], \"Trace number has to be 1 or 2\" #this checks for correct trace numbers\n",
    "        return float(LTB.query(\"LINS2:TRAC:X:START? 'TRC{:d}'\".format(traceno)))\n",
    "    \n",
    "    def get_n_of_points(self, traceno=1):\n",
    "        assert trace in [1, 2], \"Trace number has to be 1 or 2\" #this checks for correct trace numbers\n",
    "        return int()\n",
    "    def get_wl(self, traceno=1):\n",
    "        assert trace in [1, 2], \"Trace number has to be 1 or 2\" #this checks for correct trace numbers\n",
    "        wl0 = self.get_wl_start(traceno)\n",
    "        wlend = self.get_wl_end(traceno)\n",
    "        N = self.get_n_of_points(traceno)"
   ]
  }
 ],
 "metadata": {
  "kernelspec": {
   "display_name": "Python 3",
   "language": "python",
   "name": "python3"
  },
  "language_info": {
   "codemirror_mode": {
    "name": "ipython",
    "version": 3
   },
   "file_extension": ".py",
   "mimetype": "text/x-python",
   "name": "python",
   "nbconvert_exporter": "python",
   "pygments_lexer": "ipython3",
   "version": "3.7.4"
  }
 },
 "nbformat": 4,
 "nbformat_minor": 2
}
