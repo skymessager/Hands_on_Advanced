{
 "cells": [
  {
   "cell_type": "markdown",
   "metadata": {},
   "source": [
    "# Advanced topic: How to use decorators \n",
    "\n",
    "Python decorators are an extremely useful and powerful python construct that makes it very easy to extend functions and methods and avoid a lot of code-duplications\n",
    "\n",
    "## Learning outcomes\n",
    "\n",
    "In this notebook we are going to learn about:\n",
    "\n",
    "* The basic concept of a decorators, what is a decorator?\n",
    "    * Functions as first-class objects\n",
    "    * Passing functions as arguments to functions\n",
    "    * Returning functions from functions\n",
    "    * Defining functions within a function\n",
    "* How to write your own decorators\n",
    "* Write a decorator that logs function calls and arguments\n",
    "    * Introduction to the logging module\n",
    "\n",
    "## Requirements\n",
    "\n",
    "* Python 3 \n",
    "* numpy\n",
    "* logging (part of the python standard library)\n",
    "* functools (part of the python standard library)"
   ]
  },
  {
   "cell_type": "code",
   "execution_count": null,
   "metadata": {},
   "outputs": [],
   "source": [
    "import numpy as np"
   ]
  },
  {
   "cell_type": "markdown",
   "metadata": {},
   "source": [
    "## Decorators explained\n",
    "\n",
    "#### So what are decorators?\n",
    "\n",
    "\"A decorator in Python is any callable Python object that is used to modify a function or a class\" from [1] \n",
    "\n",
    "#### Wait... What?"
   ]
  },
  {
   "cell_type": "markdown",
   "metadata": {},
   "source": [
    "\n",
    "Probably the most common decorator that you will encounter is the inbuild `property` decorator.\n",
    "\n",
    "Most of you would have seen something like the following:"
   ]
  },
  {
   "cell_type": "code",
   "execution_count": null,
   "metadata": {},
   "outputs": [],
   "source": [
    "class rectangle(object):\n",
    "    def __init__(self, x, y):\n",
    "        self.x = x\n",
    "        self.y = y\n",
    "    @property\n",
    "    def area(self):\n",
    "        return self.x*self.y"
   ]
  },
  {
   "cell_type": "code",
   "execution_count": null,
   "metadata": {},
   "outputs": [],
   "source": [
    "a = rectangle(2., 3.)\n",
    "print(a.area)"
   ]
  },
  {
   "cell_type": "markdown",
   "metadata": {},
   "source": [
    "## An aside on functions\n",
    "\n",
    "To understand how decorators work we have take first take a detour and look at functions in Python.\n",
    "\n",
    "In python functions are *first-class objects*, what this means is that functions can be assigned to other variables e.g. like so:"
   ]
  },
  {
   "cell_type": "code",
   "execution_count": null,
   "metadata": {},
   "outputs": [],
   "source": [
    "def func(x):\n",
    "    print(\"Hello {}\".format(x))\n",
    "func(\"Nick\")\n",
    "gunc = func\n",
    "func(\"Binbin\")"
   ]
  },
  {
   "cell_type": "markdown",
   "metadata": {},
   "source": [
    "They can be passed as parameters to other functions"
   ]
  },
  {
   "cell_type": "code",
   "execution_count": null,
   "metadata": {},
   "outputs": [],
   "source": [
    "def otherfunc(f):\n",
    "    f(\"Jochen\")\n",
    "otherfunc(func)"
   ]
  },
  {
   "cell_type": "markdown",
   "metadata": {},
   "source": [
    "They can also be returned from other functions:"
   ]
  },
  {
   "cell_type": "code",
   "execution_count": null,
   "metadata": {},
   "outputs": [],
   "source": [
    "def anotherfunc(f):\n",
    "    print(\"Passed function {}\".format(f.__name__))\n",
    "    return f\n",
    "g = anotherfunc(func)\n",
    "g(\"Nick\")"
   ]
  },
  {
   "cell_type": "markdown",
   "metadata": {},
   "source": [
    "In the above example we also demonstrated that the name of the function is held in the `__name__` attribute\n",
    "\n",
    "Importantly unlike e.g. in C we can define functions inside another function:"
   ]
  },
  {
   "cell_type": "code",
   "execution_count": null,
   "metadata": {},
   "outputs": [],
   "source": [
    "def outsidefunc(greet):\n",
    "    def greeter(name):\n",
    "        print(\"{} {}\".format(greet, name))\n",
    "    return greeter\n",
    "gg = outsidefunc(\"Hi\")\n",
    "gg(\"Nick\")"
   ]
  },
  {
   "cell_type": "markdown",
   "metadata": {},
   "source": [
    "### How does this relate to decorators\n",
    "\n",
    "Decorators are essentially functions (or classes) that modify other functions. Let's look at a basic example."
   ]
  },
  {
   "cell_type": "code",
   "execution_count": null,
   "metadata": {},
   "outputs": [],
   "source": [
    "def add(x,y):\n",
    "    return x+y\n",
    "\n",
    "def decexample(func):\n",
    "    def wrapper(x, y):\n",
    "        print(\"Calling function {}\".format(func.__name__))\n",
    "        return func(x,y)\n",
    "    return wrapper\n",
    "\n",
    "newadd = decexample(add)\n",
    "newadd(2,4.)"
   ]
  },
  {
   "cell_type": "markdown",
   "metadata": {},
   "source": [
    "The *pythonic* syntax for decorator is using the `@` sign."
   ]
  },
  {
   "cell_type": "code",
   "execution_count": null,
   "metadata": {},
   "outputs": [],
   "source": [
    "@decexample\n",
    "def add(x,y):\n",
    "    return x+y\n",
    "add(2,5.)"
   ]
  },
  {
   "cell_type": "markdown",
   "metadata": {},
   "source": [
    "To use decorators more generally it is better to add the ability for arbitary number of arguments and keyword arguments"
   ]
  },
  {
   "cell_type": "code",
   "execution_count": null,
   "metadata": {},
   "outputs": [],
   "source": [
    "def decexample(func):\n",
    "    def wrapper(*args, **kwargs):\n",
    "        print(\"Calling function {}\".format(func.__name__))\n",
    "        print(\"Number of arguments {}\".format(len(args)))\n",
    "        print(\"Number of keyword arguments: {}\".format(len(kwargs)))\n",
    "        return func(*args, **kwargs)\n",
    "    return wrapper\n",
    "\n",
    "@decexample\n",
    "def polynomial(x, a, b, c=0):\n",
    "    return a*x**2 + b*x + c\n",
    "    \n",
    "x=np.linspace(0, 10, 1000)\n",
    "y = polynomial(x, 1, 2, c=1)\n"
   ]
  },
  {
   "cell_type": "markdown",
   "metadata": {},
   "source": [
    "### Logging decorator\n",
    "\n",
    "When running experiments it is often useful to have a log of the different instrument calls, processing functions and keeping track of errors etc.. Instead of putting different logging calls into each function we can use a decorator, which gives a much cleaner interface and much less code duplication. \n",
    "\n",
    "You should also note that while in the examples here we add decorators to functions one can also add them to methods, e.g. for a instrument class.\n",
    "\n",
    "In the example we will also itroduce the logging module and show how to implement decorators with arguments."
   ]
  },
  {
   "cell_type": "code",
   "execution_count": 4,
   "metadata": {},
   "outputs": [],
   "source": [
    "import logging\n",
    "from functools import wraps\n",
    "\n",
    "logging.basicConfig(level=logging.DEBUG)"
   ]
  },
  {
   "cell_type": "markdown",
   "metadata": {},
   "source": [
    "In the above code we import the logging and functools modules (more on the second later) and initialize the logger to log all events with a severity above DEBUG level (default is WARNING). By default the logging modules logs to the standard output, if you want to log to a file use the `filename` keyword."
   ]
  },
  {
   "cell_type": "code",
   "execution_count": null,
   "metadata": {},
   "outputs": [],
   "source": [
    "def log_event(func): # the decorator function\n",
    "    @wraps(func) \n",
    "    def logwrapper(*args, **kwargs): # the function that is returned by the decorator and performs the logging\n",
    "        frmt = \"call of {} function with arguments: \" + ', '.join([\"{}\"]*len(args)) + \" and keyword arguments \" + \", \".join([\"{}\"]*len(kwargs))\n",
    "        message = frmt.format(func.__name__, *args, *[\"{}:{}\".format(k,v) for k,v in kwargs.items()])\n",
    "        logging.debug(message)\n",
    "        return func(*args, **kwargs)\n",
    "    return logwrapper"
   ]
  },
  {
   "cell_type": "code",
   "execution_count": null,
   "metadata": {},
   "outputs": [],
   "source": [
    "@log_event\n",
    "def add(x, y):\n",
    "    return x+y\n",
    "\n",
    "@log_event\n",
    "def operation(x, y, op=\"sub\"):\n",
    "    if op == \"sup\":\n",
    "        return x-y\n",
    "    elif op == \"add\":\n",
    "        return x+y\n",
    "    \n",
    "add(1,2)\n",
    "operation(1,3, op=\"add\")"
   ]
  },
  {
   "cell_type": "markdown",
   "metadata": {},
   "source": [
    "#### The @wraps decorator\n",
    "\n",
    "Let's have a closer look what the @wraps decorator does. For this we should first look at a decorator without this"
   ]
  },
  {
   "cell_type": "code",
   "execution_count": 3,
   "metadata": {},
   "outputs": [],
   "source": [
    "def do_nothing(func):\n",
    "    def nothingwrapper(*args, **kwargs):\n",
    "        print(\"I'm not doing anything\")\n",
    "        return func(*args, **kwargs)\n",
    "    return nothingwrapper\n",
    "\n",
    "@do_nothing\n",
    "def add(x, y):\n",
    "    return x+y"
   ]
  },
  {
   "cell_type": "code",
   "execution_count": 4,
   "metadata": {},
   "outputs": [
    {
     "name": "stdout",
     "output_type": "stream",
     "text": [
      "I'm not doing anything\n"
     ]
    },
    {
     "data": {
      "text/plain": [
       "3"
      ]
     },
     "execution_count": 4,
     "metadata": {},
     "output_type": "execute_result"
    }
   ],
   "source": [
    "add(1,2) #works as expected"
   ]
  },
  {
   "cell_type": "code",
   "execution_count": 5,
   "metadata": {},
   "outputs": [
    {
     "name": "stdout",
     "output_type": "stream",
     "text": [
      "<function do_nothing.<locals>.nothingwrapper at 0x7fe2119edea0>\n",
      "<class 'function'>\n"
     ]
    }
   ],
   "source": [
    "# if we want to look at the function \n",
    "print(add)"
   ]
  },
  {
   "cell_type": "markdown",
   "metadata": {},
   "source": [
    "Ok but our function should be called add?"
   ]
  },
  {
   "cell_type": "code",
   "execution_count": 7,
   "metadata": {},
   "outputs": [],
   "source": [
    "#this is where the wraps decorator comes in\n",
    "def do_nothing(func):\n",
    "    @wraps(func)\n",
    "    def nothingwrapper(*args, **kwargs):\n",
    "        print(\"I'm not doing anything\")\n",
    "        return func(*args, **kwargs)\n",
    "    return nothingwrapper\n",
    "\n",
    "@do_nothing\n",
    "def add(x, y):\n",
    "    return x+y"
   ]
  },
  {
   "cell_type": "code",
   "execution_count": 8,
   "metadata": {},
   "outputs": [
    {
     "name": "stdout",
     "output_type": "stream",
     "text": [
      "<function add at 0x7fe2119fc620>\n"
     ]
    }
   ],
   "source": [
    "print(add) # ok all good"
   ]
  },
  {
   "cell_type": "markdown",
   "metadata": {},
   "source": [
    "### Back to logging\n",
    "\n",
    "Often we want to format the log messages differently in particular it is good to have a timestamp (note we have to restart the kernel because the loggin module keeps its state)."
   ]
  },
  {
   "cell_type": "code",
   "execution_count": null,
   "metadata": {},
   "outputs": [],
   "source": [
    "import logging\n",
    "from functools import wraps\n",
    "\n",
    "logging.basicConfig(level=logging.DEBUG, format='%(asctime)s %(message)s') # this specifies a logging format of \"time message\"\n",
    "def log_event(func):\n",
    "    @wraps(func)\n",
    "    def logwrapper(*args, **kwargs):\n",
    "        frmt = \"call of {} function with arguments: \" + ', '.join([\"{}\"]*len(args)) + \" and keyword arguments: \" + \", \".join([\"{}\"]*len(kwargs))\n",
    "        message = frmt.format(func.__name__, *args, *[\"{}:{}\".format(k,v) for k,v in kwargs.items()])\n",
    "        logging.debug(message)\n",
    "        return func(*args, **kwargs)\n",
    "    return logwrapper\n"
   ]
  },
  {
   "cell_type": "code",
   "execution_count": null,
   "metadata": {},
   "outputs": [],
   "source": [
    "@log_event\n",
    "def add(x, y):\n",
    "    return x+y\n",
    "\n",
    "@log_event\n",
    "def operation(x, y, op=\"sub\"):\n",
    "    if op == \"sup\":\n",
    "        return x-y\n",
    "    elif op == \"add\":\n",
    "        return x+y\n",
    "    \n",
    "add(1,2)\n",
    "operation(1,3, op=\"add\")"
   ]
  },
  {
   "cell_type": "markdown",
   "metadata": {},
   "source": [
    "#### Decorator arguments\n",
    "\n",
    "Often it would be useful to pass arguments to the decorator, such as a custom message or a different log level. For this we need to encapsulate the decorator function in another function that takes arguments. In the following example the log_event decorator takes a custom format string and a log level. Note that the format string must be for the correct number of arguments. "
   ]
  },
  {
   "cell_type": "code",
   "execution_count": null,
   "metadata": {},
   "outputs": [],
   "source": [
    "def logger(_func = None, *, log_level=logging.DEBUG, msg_frmt=None ): # another outer function which takes the keywords (the * means catch all non-kwargs)\n",
    "    def decorator_log(func): # the same logger decoratr function as before\n",
    "        @wraps(func)\n",
    "        def wrapper_logger(*args, **kwargs): # the actual wrapper that does the logging\n",
    "            nonlocal msg_frmt\n",
    "            if msg_frmt is None:\n",
    "                msg_frmt = \"call of {} function with arguments: \" + ', '.join([\"{}\"]*len(args)) + \" and keyword arguments: \" + \", \".join([\"{}\"]*len(kwargs))\n",
    "                message = msg_frmt.format(func.__name__, *args, *[\"{}:{}\".format(k,v) for k,v in kwargs.items()])\n",
    "            else:\n",
    "                message = msg_frmt.format(*args, *[\"{}:{}\".format(k,v) for k,v in kwargs.items()])\n",
    "            logging.log(log_level, message)\n",
    "            return func(*args, **kwargs)\n",
    "        return wrapper_logger\n",
    "    # the magic is here\n",
    "    if _func is None:\n",
    "        return decorator_log\n",
    "    else:\n",
    "        return decorator_log(_func)\n",
    "\n",
    "\n",
    "@logger(log_level=logging.INFO, msg_frmt=\"addition of {} and {}\")\n",
    "def add(x, y):\n",
    "    return x+y\n",
    "\n",
    "@logger(log_level=logging.INFO)\n",
    "def operation(x, y, op=\"sub\"):\n",
    "    if op == \"sup\":\n",
    "        return x-y\n",
    "    elif op == \"add\":\n",
    "        return x+y\n",
    "    \n",
    "add(1,2)\n",
    "operation(1,3, op=\"add\")\n"
   ]
  },
  {
   "cell_type": "markdown",
   "metadata": {},
   "source": [
    "One great feature is that it's possible to nest decorators. So we could write an additional decorator,and use that together with the logging (note that the order of the decorators can be important). A useful decorator could be a timing decorator which times function calls."
   ]
  },
  {
   "cell_type": "markdown",
   "metadata": {},
   "source": [
    "## Example: retry decorator\n",
    "\n",
    "Some instruments are buggy, i.e. they don't respond all the time, or are very slow to respond, causing timeouts. If we know these instruments we probably want to retry the command if we receive a timeout. \n",
    "\n",
    "Solution:\n",
    "* Put a for loop into each of our methods/functions for that instrument\n",
    "    * lots of code duplication\n",
    "* use a decorator"
   ]
  },
  {
   "cell_type": "code",
   "execution_count": null,
   "metadata": {},
   "outputs": [],
   "source": [
    "# Do it here live"
   ]
  },
  {
   "cell_type": "markdown",
   "metadata": {},
   "source": [
    "### Solution\n"
   ]
  },
  {
   "cell_type": "code",
   "execution_count": 7,
   "metadata": {},
   "outputs": [],
   "source": [
    "def retry_on_fail(_func=None, *, max_retries=3, exception_type=Exception): # Exception type is configurable \n",
    "    def retry_decorator(func):\n",
    "        @wraps(func)\n",
    "        def retry_wrapper(*args, **kwargs):\n",
    "            nonlocal max_retries\n",
    "            for i in range(max_retries):\n",
    "                try:\n",
    "                    return func(*args, **kwargs)\n",
    "                except exception_type:\n",
    "                    print(\"An exception occurred retrying\") # we could log the event here\n",
    "                    continue\n",
    "            raise IOError(\"Retried {} times, but still get an {} Error\".format(max_retries, exception_type))\n",
    "        return retry_wrapper\n",
    "    if _func is None:\n",
    "        return retry_decorator\n",
    "    else:\n",
    "        return retry_decorator(_func)"
   ]
  },
  {
   "cell_type": "code",
   "execution_count": 10,
   "metadata": {},
   "outputs": [],
   "source": [
    "@retry_on_fail(max_retries=3)\n",
    "def failing_function(): # this is very much a dummy function\n",
    "    i = np.random.choice([True, False])\n",
    "    if i:\n",
    "        print(\"I finished\")\n",
    "    else:\n",
    "        raise Exception(\"Error\")"
   ]
  },
  {
   "cell_type": "code",
   "execution_count": 11,
   "metadata": {},
   "outputs": [
    {
     "name": "stdout",
     "output_type": "stream",
     "text": [
      "0\n",
      "I finished\n",
      "1\n",
      "I finished\n",
      "2\n",
      "An exception occurred retrying\n",
      "I finished\n",
      "3\n",
      "I finished\n",
      "4\n",
      "An exception occurred retrying\n",
      "I finished\n",
      "5\n",
      "I finished\n",
      "6\n",
      "I finished\n",
      "7\n",
      "An exception occurred retrying\n",
      "I finished\n",
      "8\n",
      "I finished\n",
      "9\n",
      "I finished\n"
     ]
    }
   ],
   "source": [
    "for i in range(10):\n",
    "    print(i)\n",
    "    failing_function()"
   ]
  },
  {
   "cell_type": "markdown",
   "metadata": {},
   "source": [
    "### Further reading\n",
    "\n",
    "1. [Primer on Python decorators](https://realpython.com/primer-on-python-decorators/)\n",
    "2. [Python Tutorial: Easy Introduction to Decorators](https://www.python-course.eu/python3_decorators.php)\n",
    "3. [Journal Dev: Python Decorator Example](https://www.journaldev.com/14932/python-decorator-example)"
   ]
  },
  {
   "cell_type": "code",
   "execution_count": null,
   "metadata": {},
   "outputs": [],
   "source": []
  }
 ],
 "metadata": {
  "kernelspec": {
   "display_name": "Python 3",
   "language": "python",
   "name": "python3"
  },
  "language_info": {
   "codemirror_mode": {
    "name": "ipython",
    "version": 3
   },
   "file_extension": ".py",
   "mimetype": "text/x-python",
   "name": "python",
   "nbconvert_exporter": "python",
   "pygments_lexer": "ipython3",
   "version": "3.7.4"
  }
 },
 "nbformat": 4,
 "nbformat_minor": 2
}
