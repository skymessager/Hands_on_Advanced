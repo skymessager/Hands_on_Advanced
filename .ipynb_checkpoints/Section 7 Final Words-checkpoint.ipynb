{
 "cells": [
  {
   "cell_type": "markdown",
   "metadata": {},
   "source": [
    "# Final Words\n",
    "\n",
    "\n",
    "Thank you everyone for participating!"
   ]
  },
  {
   "cell_type": "markdown",
   "metadata": {},
   "source": [
    "## Reminder\n",
    "\n",
    "* Feel free to email us further questions.\n",
    "* Our emails: [nicolas.fontaine@nokia-bell-labs.com](mailto:nicolas.fontaine@nokia-bell-labs.com), [RGuan@acacia-inc.com](mailto:RGuan@acacia-inc.com), [jochen.schroeder@chalmers.se](mailto:jochen.schroeder@chalmers.se)\n",
    "* Remember you can find all the material in our git repository at https://gitlab.com/python4photonics/ofcshortcourse\n",
    "* Also we are running Labautomation Hackathons at OFC, ECOC, Photonics West (and possibly more)\n",
    "* Visit https:///www.python4photonics.org where we will post news etc. (let us know if you want to post content)"
   ]
  },
  {
   "cell_type": "code",
   "execution_count": null,
   "metadata": {},
   "outputs": [],
   "source": []
  }
 ],
 "metadata": {
  "kernelspec": {
   "display_name": "Python 3",
   "language": "python",
   "name": "python3"
  },
  "language_info": {
   "codemirror_mode": {
    "name": "ipython",
    "version": 3
   },
   "file_extension": ".py",
   "mimetype": "text/x-python",
   "name": "python",
   "nbconvert_exporter": "python",
   "pygments_lexer": "ipython3",
   "version": "3.7.4"
  }
 },
 "nbformat": 4,
 "nbformat_minor": 2
}
