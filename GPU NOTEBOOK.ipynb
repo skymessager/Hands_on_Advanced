{
 "cells": [
  {
   "cell_type": "markdown",
   "metadata": {},
   "source": [
    "# GPU Programming  Techniques\n",
    "\n",
    "GPU programming requires a completely different strategies and way of thinking than general purpose CPU programming. GPUs have 1000s of individual processors all operating on small parts of the problem at the same time. Some operations such as element-wise such as adding two vectors together are trivial and give huge performance gains. Some easy operations that are a piece of cake on a CPU such as doing a sum of an array are extermely difficult. \n",
    "\n",
    "Most of the intracacies of how GPUs work and kernel optimization are outside of the scope of this course. This lesson will show how to quickly get started with a GPU and gain speedups of 20-100x (problem dependent).\n",
    "\n",
    "CUDA from NVIDIA seems to be the most popular GPU language.  In CUDA, you write highly optimized functions that run on the GPU which are called kernels. To send data to the GPU, it must first get transfered from the RAM on the mother board through the PCI bus and onto the memory on the GPU.  \n",
    "\n",
    "Nowadays, there are numerous gpu libraries to assist you in accelerating your code. \n",
    "- pycuda.  original gpu library. Allows people to write custom kernels in python and compile just-in-time.\n",
    "- cupy.   drop in replacement to numpy, awesome, easy to use, highly recommended, you don't need to be a gpu expert.\n",
    "- pytorch. machine learning framework\n",
    "- numba.  allows users to write cuda kernels in a python like language."
   ]
  },
  {
   "cell_type": "markdown",
   "metadata": {},
   "source": [
    "# When to use the GPU\n",
    "\n",
    "It does not always make sense to use the GPU.  Here are the easiest use cases:\n",
    "   - when you do lots of FFTS\n",
    "   - standard vector/linear algebra on large arrays\n",
    "   - when there is a nice library available (tensorflow, pytorch)"
   ]
  },
  {
   "cell_type": "markdown",
   "metadata": {},
   "source": [
    "# Host Memory and Device Memory\n",
    "\n",
    "In GPU language, host memory is the RAM in you computer, and device memory is the memory on the GPU card. \n",
    "\n",
    "To run a kernel on the GPU, the host (CPU) must first copy data to the device (GPU).\n",
    "Transfering data between the host and device is slow. You should avoid transfer back and forth constantly.  If you can transfer once at the beginning of your algorithm and return the data at the end, you can achieve crazy speedups.  If you transfer back and forth you maybe limited to 2-5x speedup.\n"
   ]
  },
  {
   "cell_type": "markdown",
   "metadata": {},
   "source": [
    "# Examples\n",
    "\n",
    "we will use the package cupy for these examples.  Its a drop in replacement for numpy.  \n",
    "\n",
    "## installation\n",
    "\n",
    "Get yourself a GPU. I normally get a GPU the gamers use ($1k).  Currently in my lab machines I am using RTX TITAN 2080\n",
    "\n",
    "first install cuda. \n",
    "https://developer.nvidia.com/cuda-downloads\n",
    "\n",
    "install microsoft build tools\n",
    "\n",
    "then install cupy\n",
    "conda install cupy\n"
   ]
  },
  {
   "cell_type": "markdown",
   "metadata": {},
   "source": [
    "## FFT and IFFT\n",
    "\n",
    "cupy directly provides fft and ifft. super easy to use"
   ]
  },
  {
   "cell_type": "code",
   "execution_count": 1,
   "metadata": {},
   "outputs": [
    {
     "name": "stdout",
     "output_type": "stream",
     "text": [
      "Populating the interactive namespace from numpy and matplotlib\n"
     ]
    }
   ],
   "source": [
    "#lazy import of some fun plotting routines\n",
    "%pylab inline\n"
   ]
  },
  {
   "cell_type": "code",
   "execution_count": 6,
   "metadata": {},
   "outputs": [],
   "source": [
    "import numpy as np\n",
    "\n",
    "N = 2**20 # something large\n",
    "dt = .01\n",
    "df = 1/N/dt\n",
    "\n",
    "t = np.arange(N)*dt #make a time axis\n",
    "f = np.arange(N)*df\n",
    "\n",
    "e = np.exp(1j*202*t) # make a field\n",
    "\n",
    "s = np.fft.fft(e) #go to the frequency domain\n",
    "\n",
    "\n",
    "e2 = np.fft.ifft(s) # go back to time domain\n",
    "\n"
   ]
  },
  {
   "cell_type": "code",
   "execution_count": 7,
   "metadata": {},
   "outputs": [
    {
     "data": {
      "text/plain": [
       "[<matplotlib.lines.Line2D at 0x7fc04d763550>]"
      ]
     },
     "execution_count": 7,
     "metadata": {},
     "output_type": "execute_result"
    },
    {
     "data": {
      "image/png": "[encoded data removed]",
      "text/plain": [
       "<Figure size 432x288 with 1 Axes>"
      ]
     },
     "metadata": {
      "needs_background": "light"
     },
     "output_type": "display_data"
    }
   ],
   "source": [
    "## ploting numpy array is simple and familiar\n",
    "plot(f,20*np.log10(abs(s)))\n"
   ]
  },
  {
   "cell_type": "markdown",
   "metadata": {},
   "source": [
    "Below is the identical code to the numpy code, but all done in the gpu.  This means these arrays are not in the ram. They are in the GPU. To plot them, or do anything to them that uses the cpu, we need to copy the arrays to the cpu.  However, since everything is done on the cpu, it can be very quick!"
   ]
  },
  {
   "cell_type": "code",
   "execution_count": 11,
   "metadata": {},
   "outputs": [],
   "source": [
    "import cupy as cp\n",
    "\n",
    "N = 2**20 # something large\n",
    "dt = .01\n",
    "df = 1/N/dt\n",
    "\n",
    "#if we use the cupy library directly, all our arrays are produced on the gpu\n",
    "tgpu = cp.arange(N)*dt #make a time axis\n",
    "fgpu = cp.arange(N)*df\n",
    "\n",
    "egpu = cp.exp(1j*202*tgpu) # make a field\n",
    "\n",
    "sgpu = cp.fft.fft(egpu) #go to the frequency domain\n",
    "\n",
    "e2gpu = cp.fft.ifft(sgpu) # go back to time domain\n",
    "\n",
    "\n",
    "# OK, need to do some new things here... Can't just plot it... will show in next cell"
   ]
  },
  {
   "cell_type": "markdown",
   "metadata": {},
   "source": [
    "We must transfer the gpu variables to the cpu for plotting.  cupy library provides some great functions cp.asnumpy()."
   ]
  },
  {
   "cell_type": "code",
   "execution_count": 12,
   "metadata": {},
   "outputs": [
    {
     "data": {
      "text/plain": [
       "[<matplotlib.lines.Line2D at 0x7fc04d67b7f0>]"
      ]
     },
     "execution_count": 12,
     "metadata": {},
     "output_type": "execute_result"
    },
    {
     "data": {
      "image/png": "[encoded data removed]",
      "text/plain": [
       "<Figure size 432x288 with 1 Axes>"
      ]
     },
     "metadata": {
      "needs_background": "light"
     },
     "output_type": "display_data"
    }
   ],
   "source": [
    "# Move arrays from gpu to the cpu so we can plot with matplotlib\n",
    "scpu = cp.asnumpy(sgpu)\n",
    "fcpu = cp.asnumpy(fgpu)\n",
    "\n",
    "plot(fcpu,20*np.log10(abs(scpu)))"
   ]
  },
  {
   "cell_type": "markdown",
   "metadata": {},
   "source": [
    "## Transfering data to the gpu\n",
    "Suppose we already have a numpy array and we need to do some work on the gpu with it.  First we must copy it to the gpu. This is easy with cupy.  use cp.asarray()"
   ]
  },
  {
   "cell_type": "code",
   "execution_count": 13,
   "metadata": {},
   "outputs": [],
   "source": [
    "sgpu2 = cp.asarray(scpu) # sgpu2 is now on the gpu"
   ]
  },
  {
   "cell_type": "markdown",
   "metadata": {},
   "source": [
    "## What happens when you try to operate on something on a gpu and a cpu at the same time?\n",
    "\n",
    "YOU WILL GET AN ERROR!"
   ]
  },
  {
   "cell_type": "code",
   "execution_count": 15,
   "metadata": {},
   "outputs": [
    {
     "ename": "TypeError",
     "evalue": "Unsupported type <class 'numpy.ndarray'>",
     "output_type": "error",
     "traceback": [
      "\u001b[0;31m---------------------------------------------------------------------------\u001b[0m",
      "\u001b[0;31mTypeError\u001b[0m                                 Traceback (most recent call last)",
      "\u001b[0;32m<ipython-input-15-58a3774bfcc7>\u001b[0m in \u001b[0;36m<module>\u001b[0;34m\u001b[0m\n\u001b[1;32m      1\u001b[0m \u001b[0;31m# this will produce an error\u001b[0m\u001b[0;34m\u001b[0m\u001b[0;34m\u001b[0m\u001b[0;34m\u001b[0m\u001b[0m\n\u001b[0;32m----> 2\u001b[0;31m \u001b[0mscpu\u001b[0m\u001b[0;34m*\u001b[0m\u001b[0msgpu\u001b[0m\u001b[0;34m\u001b[0m\u001b[0;34m\u001b[0m\u001b[0m\n\u001b[0m",
      "\u001b[0;32mcupy/core/core.pyx\u001b[0m in \u001b[0;36mcupy.core.core.ndarray.__array_ufunc__\u001b[0;34m()\u001b[0m\n",
      "\u001b[0;32mcupy/core/_kernel.pyx\u001b[0m in \u001b[0;36mcupy.core._kernel.ufunc.__call__\u001b[0;34m()\u001b[0m\n",
      "\u001b[0;32mcupy/core/_kernel.pyx\u001b[0m in \u001b[0;36mcupy.core._kernel._preprocess_args\u001b[0;34m()\u001b[0m\n",
      "\u001b[0;31mTypeError\u001b[0m: Unsupported type <class 'numpy.ndarray'>"
     ]
    }
   ],
   "source": [
    "# this will produce an error\n",
    "scpu*sgpu"
   ]
  },
  {
   "cell_type": "markdown",
   "metadata": {},
   "source": [
    "# How to get the most speedups with the GPU?  \n",
    "Keep your prolem on the GPU and only bring data back to the CPU when absoluately neccessary"
   ]
  },
  {
   "cell_type": "code",
   "execution_count": 17,
   "metadata": {},
   "outputs": [
    {
     "name": "stdout",
     "output_type": "stream",
     "text": [
      "12.4 ms ± 586 µs per loop (mean ± std. dev. of 7 runs, 10 loops each)\n"
     ]
    }
   ],
   "source": [
    "%%timeit\n",
    "# This example is slow because we go back and forth between the gpu and the cpu\n",
    "\n",
    "egpu = cp.asarray(e)\n",
    "sgpu = cp.fft.fft(egpu)\n",
    "\n",
    "#do some operation on the cpu\n",
    "scpu = cp.asnumpy(sgpu)\n",
    "scpu *= 2. \n",
    "# this  is a trivial operation, but it is just meant to show \n",
    "# how data transfers can slow you down\n",
    "\n",
    "# copy back to gpu\n",
    "sgpu = cp.asarray(scpu) \n",
    "\n",
    "egpu = cp.fft.ifft(sgpu)\n",
    "\n",
    "ecpu = cp.asarray(egpu)\n"
   ]
  },
  {
   "cell_type": "code",
   "execution_count": 18,
   "metadata": {},
   "outputs": [
    {
     "name": "stdout",
     "output_type": "stream",
     "text": [
      "The slowest run took 6.83 times longer than the fastest. This could mean that an intermediate result is being cached.\n",
      "3.26 ms ± 3.2 ms per loop (mean ± std. dev. of 7 runs, 1 loop each)\n"
     ]
    }
   ],
   "source": [
    "%%timeit\n",
    "# This example only transfers the data once!\n",
    "egpu = cp.asarray(e)\n",
    "sgpu = cp.fft.fft(egpu)\n",
    "\n",
    "#do that operation on the gpu\n",
    "sgpu *=2.\n",
    "\n",
    "egpu = cp.fft.ifft(sgpu)\n",
    "\n",
    "ecpu = cp.asarray(egpu)\n"
   ]
  },
  {
   "cell_type": "markdown",
   "metadata": {},
   "source": [
    "Because we saved so much time just by eliminating 2 transfers, we can probably assume most of the time in this code is taken up by the data transfer to the GPU.  More sophisiticated code would probably do many more operations and kernel calls before returning the data to the CPU"
   ]
  },
  {
   "cell_type": "markdown",
   "metadata": {},
   "source": [
    "# More Advanced GPU - CUSTOM KERNELS!!!\n",
    "CUPY is basically a drop in replacement for numpy.  If you are not doing anything super specific, cupy is so easy that you can make huge speedups in your program! \n",
    "\n",
    "Custom kernels should only be used when you can't do it with basic functions.  They are hard to debug, and are difficult to program... You need much more knowledge about the GPU.\n",
    "\n",
    "For this, I refer you to the cupy documentation -- this kernel adds two vectors together and places the result in a third.  \n",
    "\n",
    "```python\n",
    ">>> add_kernel = cp.RawKernel(r'''\n",
    "... extern \"C\" __global__\n",
    "... void my_add(const float* x1, const float* x2, float* y) {\n",
    "...     int tid = blockDim.x * blockIdx.x + threadIdx.x;\n",
    "...     y[tid] = x1[tid] + x2[tid];\n",
    "... }\n",
    "... ''', 'my_add')\n",
    ">>> x1 = cp.arange(25, dtype=cp.float32).reshape(5, 5)\n",
    ">>> x2 = cp.arange(25, dtype=cp.float32).reshape(5, 5)\n",
    ">>> y = cp.zeros((5, 5), dtype=cp.float32)\n",
    ">>> add_kernel((5,), (5,), (x1, x2, y))  # grid, block and arguments\n",
    ">>> y\n",
    "array([[ 0.,  2.,  4.,  6.,  8.],\n",
    "       [10., 12., 14., 16., 18.],\n",
    "       [20., 22., 24., 26., 28.],\n",
    "       [30., 32., 34., 36., 38.],\n",
    "       [40., 42., 44., 46., 48.]], dtype=float32)\n",
    "\n",
    "```\n",
    "\n",
    "\n",
    "# Here is a custom kernel I wrote\n",
    "\n",
    "This is meant to serve as an example of how ugly and annoying it is to write a custom kernel.  This one is for a nonuniform fft (e.g., interpolation) which is somewhat more challenging to write for a gpu.\n",
    "\n",
    "```c\n",
    "extern \"C\" __global__\n",
    "void interpshort(const int nin, //Number of points in input\n",
    "            const int nout, //Number of points in output\n",
    "            const int arrays, //Number of arrays to simultaneously process\n",
    "            const double* outx, // Slows things down a bit.. would need to think of some tricks to avoid using \n",
    "            const int* inx, //precomputed lookup that tells us where to pickup data from input array\n",
    "            const short* x, //values to interpolate. // These inputs\n",
    "            float *y  //store result in here!\n",
    "        ) {\n",
    "     // loop through output array x\n",
    "     // outx, each index tells the target output positions\n",
    "     // inx, each index corresponds to an output grid and says which input to look at.\n",
    "\n",
    "     int   xstart;\n",
    "     int   xend;\n",
    "     int   limit;\n",
    "     float temp;\n",
    "     \n",
    "     int ipos;\n",
    "     int j;\n",
    "     float pos;\n",
    "     float wi;\n",
    "     \n",
    "     const float tablestep = 1022/8.0f;\n",
    "     \n",
    "     __shared__ int loadstart;\n",
    "     //__shared__ int loadend;\n",
    "     __shared__ int firsti; \n",
    "     \n",
    "     __shared__ short xdata[2048]; // Some SHARED Memory...\n",
    "     __shared__ float outxdata[2048]; // Some SHARED Memory...\n",
    "     __shared__ float table[1024];\n",
    "     \n",
    "     //make our lookup table since this was a bottlenek\n",
    "     table[threadIdx.x] = kernel(-4.0f+threadIdx.x/tablestep);\n",
    "\n",
    "     __syncthreads();\n",
    "     \n",
    "     for (int i = blockIdx.x * blockDim.x + threadIdx.x; \n",
    "         i < nout;//-1000000;//-100000;//nout-MSP-2-2000; \n",
    "         i += blockDim.x * gridDim.x) \n",
    "         {\n",
    "        //i is our current output\n",
    "        // xstart and xend are where we need to look in the input array for data.\n",
    "\n",
    "         //if (i>=MSP) \n",
    "         xstart = inx[MAX(i-MSP,0)] + 1;\n",
    "         //else\n",
    "         xend   = inx[MIN(i+MSP,nout-1)];\n",
    "\n",
    "\n",
    "         xstart = MAX(xstart,0);//(xstart<0) ?   0:xstart; // protect input\n",
    "         xend   = MIN(xend,nin-1);//(xend>nin) ? nin-1:xend; //protect against overflow...  \n",
    "         \n",
    "         //Load up the Start point and End Point\n",
    "         if (threadIdx.x==0) {\n",
    "             loadstart = xstart;\n",
    "             firsti = i ;\n",
    "         }\n",
    "         if (threadIdx.x==1023) {\n",
    "            //  loadend = xend;\n",
    "         }\n",
    "\n",
    "         __syncthreads();\n",
    "\n",
    "\n",
    "\n",
    "         \n",
    "         //load up shared memory.... for the interpolation info\n",
    "         if ( (loadstart+threadIdx.x ) < nin )\n",
    "         {\n",
    "             outxdata[threadIdx.x]            = (outx[loadstart+threadIdx.x]-firsti); //\n",
    "             \n",
    "             //Load next block ifneccessary\n",
    "             if ( (loadstart + threadIdx.x + blockDim.x ) < nin )\n",
    "             {\n",
    "                 outxdata[threadIdx.x+blockDim.x] = (outx[loadstart + threadIdx.x + blockDim.x]-firsti);\n",
    "             }\n",
    "             else\n",
    "             {\n",
    "                 //need to protect bad data gets..\n",
    "                  outxdata[threadIdx.x+blockDim.x] = nout-1;\n",
    "             }\n",
    "         }\n",
    "         else\n",
    "         {\n",
    "             outxdata[threadIdx.x] = nout-1;\n",
    "         }\n",
    "\n",
    "         for (int k =0; k<arrays; k++)\n",
    "         {\n",
    "            __syncthreads(); // NEED THIS FOR WHEN THE LOOP LOOPS AROUND... If some threads are ahead they could corrupt the data in the sharedbuffer \n",
    "            // Load the global memory for this group of threads\n",
    "            if ( (loadstart+threadIdx.x ) < nin )\n",
    "            {\n",
    "                xdata[threadIdx.x]               = x[loadstart + threadIdx.x                  + nin*k];\n",
    "                \n",
    "                //Load next block ifneccessary\n",
    "                if ( (loadstart+threadIdx.x+blockDim.x )<nin )\n",
    "                {\n",
    "                    xdata[threadIdx.x+blockDim.x]    = x[loadstart + threadIdx.x + blockDim.x + nin*k];\n",
    "                }\n",
    "            }\n",
    "\n",
    "            __syncthreads();\n",
    "            \n",
    "            temp = 0.0f;\n",
    "            //temp =(i - firsti - outxdata[xend-loadstart]) ;\n",
    "             for (  j = xstart; j<=xend;  j++)\n",
    "             {\n",
    "                 pos = (i - firsti - outxdata[j-loadstart]) *tablestep; // where to interpolate.........            \n",
    "\n",
    "                  ipos = int(pos);\n",
    "                  wi = pos-ipos;\n",
    "\n",
    "\n",
    "                  if (ipos>-513 && ipos < (1024-513))\n",
    "                  {\n",
    "                    //sometimes can have a table fault from numerical mistakes...\n",
    "                    temp +=  (table[ipos+512]*(1.0f-wi) + wi*table[ipos+513])*xdata[j-loadstart]*(outxdata[j-loadstart+1]-outxdata[j-loadstart]);\n",
    "                  }\n",
    "\n",
    "            //    // Non interpolating version is a little slower...\n",
    "            //     if (abs(i-firsti-outxdata[j-loadstart])<4.0f)\n",
    "            //     {\n",
    "            //      temp += kernel(i-firsti-outxdata[j-loadstart])*xdata[j-loadstart];\n",
    "            //     }\n",
    "\n",
    "             }\n",
    "\n",
    "             //hopefully this one is am\n",
    "             y[i + k*nout] = temp;//temp;\n",
    "\n",
    "\n",
    "         }\n",
    "         }\n",
    "}\n",
    "```"
   ]
  },
  {
   "cell_type": "code",
   "execution_count": null,
   "metadata": {},
   "outputs": [],
   "source": []
  }
 ],
 "metadata": {
  "kernelspec": {
   "display_name": "Python 3 (ipykernel)",
   "language": "python",
   "name": "python3"
  },
  "language_info": {
   "codemirror_mode": {
    "name": "ipython",
    "version": 3
   },
   "file_extension": ".py",
   "mimetype": "text/x-python",
   "name": "python",
   "nbconvert_exporter": "python",
   "pygments_lexer": "ipython3",
   "version": "3.12.2"
  }
 },
 "nbformat": 4,
 "nbformat_minor": 4
}
