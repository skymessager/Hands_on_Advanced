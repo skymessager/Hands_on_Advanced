{
 "cells": [
  {
   "cell_type": "markdown",
   "metadata": {},
   "source": [
    "# Final Words\n",
    "\n",
    "\n",
    "Thank you everyone for participating!"
   ]
  },
  {
   "cell_type": "markdown",
   "metadata": {},
   "source": [
    "## Reminder\n",
    "\n",
    "* Feel free to email us further questions.\n",
    "* Our emails: [nicolas.fontaine@nokia-bell-labs.com](mailto:nicolas.fontaine@nokia-bell-labs.com), [Binbin.Guan@microsoft.com](mailto:Binbin.Guan@microsoft.com), [jochen.schroeder@chalmers.se](mailto:jochen.schroeder@chalmers.se)\n",
    "* Remember you can find all the material in our git repository at https://gitlab.com/python4photonics/ofcshortcourse\n",
    "* Also we are running Labautomation Hackathons at OFC, ECOC, Photonics West (and possibly more)\n",
    "* Visit https:///www.python4photonics.org where we will post news etc. (let us know if you want to post content)"
   ]
  },
  {
   "cell_type": "code",
   "execution_count": null,
   "metadata": {},
   "outputs": [],
   "source": []
  }
 ],
 "metadata": {
  "kernelspec": {
   "display_name": "Python 3",
   "language": "python",
   "name": "python3"
  },
  "language_info": {
   "codemirror_mode": {
    "name": "ipython",
    "version": 3
   },
   "file_extension": ".py",
   "mimetype": "text/x-python",
   "name": "python",
   "nbconvert_exporter": "python",
   "pygments_lexer": "ipython3",
   "version": "3.8.10"
  },
  "latex_envs": {
   "LaTeX_envs_menu_present": true,
   "autoclose": false,
   "autocomplete": true,
   "bibliofile": "biblio.bib",
   "cite_by": "apalike",
   "current_citInitial": 1,
   "eqLabelWithNumbers": true,
   "eqNumInitial": 1,
   "hotkeys": {
    "equation": "Ctrl-E",
    "itemize": "Ctrl-I"
   },
   "labels_anchors": false,
   "latex_user_defs": false,
   "report_style_numbering": false,
   "user_envs_cfg": false
  }
 },
 "nbformat": 4,
 "nbformat_minor": 2
}
